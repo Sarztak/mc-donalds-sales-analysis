{
 "cells": [
  {
   "cell_type": "code",
   "execution_count": 85,
   "metadata": {},
   "outputs": [],
   "source": [
    "import pandas as pd\n",
    "import numpy as np\n",
    "import matplotlib.pyplot as plt\n",
    "import seaborn as sns\n",
    "plt.style.use('ggplot')\n",
    "pd.options.display.max_columns = 200\n",
    "pd.options.display.max_rows = 20\n",
    "\n",
    "df = pd.read_csv('M395_weekly_sales.csv')"
   ]
  },
  {
   "cell_type": "code",
   "execution_count": 86,
   "metadata": {},
   "outputs": [
    {
     "name": "stdout",
     "output_type": "stream",
     "text": [
      "<class 'pandas.core.frame.DataFrame'>\n",
      "RangeIndex: 302400 entries, 0 to 302399\n",
      "Data columns (total 17 columns):\n",
      " #   Column       Non-Null Count   Dtype  \n",
      "---  ------       --------------   -----  \n",
      " 0   REST_KEY     302400 non-null  int64  \n",
      " 1   rest_label   302400 non-null  object \n",
      " 2   City         302400 non-null  object \n",
      " 3   County       302400 non-null  object \n",
      " 4   latitude     302400 non-null  float64\n",
      " 5   longitude    302400 non-null  float64\n",
      " 6   owner_label  302400 non-null  object \n",
      " 7   trad_label   302400 non-null  object \n",
      " 8   ItemN        302400 non-null  int64  \n",
      " 9   itemdesc     302400 non-null  object \n",
      " 10  wk_ending    302400 non-null  object \n",
      " 11  urws         297638 non-null  float64\n",
      " 12  wavg_price   297638 non-null  float64\n",
      " 13  upt          297638 non-null  float64\n",
      " 14  agc          297638 non-null  float64\n",
      " 15  adus         297638 non-null  float64\n",
      " 16  totunits     297638 non-null  float64\n",
      "dtypes: float64(8), int64(2), object(7)\n",
      "memory usage: 39.2+ MB\n"
     ]
    }
   ],
   "source": [
    "df.info() # we have 302400 rows of data and 17 columns"
   ]
  },
  {
   "cell_type": "code",
   "execution_count": 87,
   "metadata": {},
   "outputs": [
    {
     "data": {
      "text/html": [
       "<div>\n",
       "<style scoped>\n",
       "    .dataframe tbody tr th:only-of-type {\n",
       "        vertical-align: middle;\n",
       "    }\n",
       "\n",
       "    .dataframe tbody tr th {\n",
       "        vertical-align: top;\n",
       "    }\n",
       "\n",
       "    .dataframe thead th {\n",
       "        text-align: right;\n",
       "    }\n",
       "</style>\n",
       "<table border=\"1\" class=\"dataframe\">\n",
       "  <thead>\n",
       "    <tr style=\"text-align: right;\">\n",
       "      <th></th>\n",
       "      <th>REST_KEY</th>\n",
       "      <th>rest_label</th>\n",
       "      <th>City</th>\n",
       "      <th>County</th>\n",
       "      <th>latitude</th>\n",
       "      <th>longitude</th>\n",
       "      <th>owner_label</th>\n",
       "      <th>trad_label</th>\n",
       "      <th>ItemN</th>\n",
       "      <th>itemdesc</th>\n",
       "      <th>wk_ending</th>\n",
       "      <th>urws</th>\n",
       "      <th>wavg_price</th>\n",
       "      <th>upt</th>\n",
       "      <th>agc</th>\n",
       "      <th>adus</th>\n",
       "      <th>totunits</th>\n",
       "    </tr>\n",
       "  </thead>\n",
       "  <tbody>\n",
       "    <tr>\n",
       "      <th>0</th>\n",
       "      <td>117</td>\n",
       "      <td>00117-WYOM-1221 28TH</td>\n",
       "      <td>WYOMING</td>\n",
       "      <td>KENT MI</td>\n",
       "      <td>42.91389</td>\n",
       "      <td>-85.6963</td>\n",
       "      <td>MCOPCO</td>\n",
       "      <td>Y</td>\n",
       "      <td>1</td>\n",
       "      <td>Total All Day Breakfast Items</td>\n",
       "      <td>1/12/13</td>\n",
       "      <td>6195.0</td>\n",
       "      <td>1.39</td>\n",
       "      <td>550.3</td>\n",
       "      <td>1608.3</td>\n",
       "      <td>885.0</td>\n",
       "      <td>6195.0</td>\n",
       "    </tr>\n",
       "    <tr>\n",
       "      <th>1</th>\n",
       "      <td>117</td>\n",
       "      <td>00117-WYOM-1221 28TH</td>\n",
       "      <td>WYOMING</td>\n",
       "      <td>KENT MI</td>\n",
       "      <td>42.91389</td>\n",
       "      <td>-85.6963</td>\n",
       "      <td>MCOPCO</td>\n",
       "      <td>Y</td>\n",
       "      <td>1</td>\n",
       "      <td>Total All Day Breakfast Items</td>\n",
       "      <td>1/19/13</td>\n",
       "      <td>6434.0</td>\n",
       "      <td>1.39</td>\n",
       "      <td>584.4</td>\n",
       "      <td>1572.7</td>\n",
       "      <td>919.1</td>\n",
       "      <td>6434.0</td>\n",
       "    </tr>\n",
       "  </tbody>\n",
       "</table>\n",
       "</div>"
      ],
      "text/plain": [
       "   REST_KEY            rest_label     City   County  latitude  longitude  \\\n",
       "0       117  00117-WYOM-1221 28TH  WYOMING  KENT MI  42.91389   -85.6963   \n",
       "1       117  00117-WYOM-1221 28TH  WYOMING  KENT MI  42.91389   -85.6963   \n",
       "\n",
       "  owner_label trad_label  ItemN                       itemdesc wk_ending  \\\n",
       "0      MCOPCO          Y      1  Total All Day Breakfast Items   1/12/13   \n",
       "1      MCOPCO          Y      1  Total All Day Breakfast Items   1/19/13   \n",
       "\n",
       "     urws  wavg_price    upt     agc   adus  totunits  \n",
       "0  6195.0        1.39  550.3  1608.3  885.0    6195.0  \n",
       "1  6434.0        1.39  584.4  1572.7  919.1    6434.0  "
      ]
     },
     "execution_count": 87,
     "metadata": {},
     "output_type": "execute_result"
    }
   ],
   "source": [
    "df.head(2)"
   ]
  },
  {
   "cell_type": "code",
   "execution_count": 88,
   "metadata": {},
   "outputs": [
    {
     "data": {
      "text/plain": [
       "0"
      ]
     },
     "execution_count": 88,
     "metadata": {},
     "output_type": "execute_result"
    }
   ],
   "source": [
    "df['REST_KEY'].isna().sum()"
   ]
  },
  {
   "cell_type": "code",
   "execution_count": 89,
   "metadata": {},
   "outputs": [
    {
     "data": {
      "text/plain": [
       "64"
      ]
     },
     "execution_count": 89,
     "metadata": {},
     "output_type": "execute_result"
    }
   ],
   "source": [
    "df['rest_label'].unique().size"
   ]
  },
  {
   "cell_type": "code",
   "execution_count": 90,
   "metadata": {},
   "outputs": [
    {
     "data": {
      "text/plain": [
       "array(['WYOMING', 'GRAND RAPIDS', 'KALAMAZOO', 'KENTWOOD',\n",
       "       'TRAVERSE CITY', 'WALKER', 'PORTAGE', 'JENISON', 'HOLLAND',\n",
       "       'GRAND HAVEN', 'CEDAR SPRINGS', 'LOWELL', 'SPARTA', 'COOPERSVILLE',\n",
       "       'HUDSONVILLE', 'ROCKFORD', 'SCHOOLCRAFT', 'COMSTOCK PARK',\n",
       "       'WILLIAMSBURG', 'CALEDONIA', 'ZEELAND', 'GALESBURG', 'ALLENDALE',\n",
       "       'ADA', 'SPRING LAKE', 'BYRON CENTER', 'RICHLAND', 'GRANDVILLE'],\n",
       "      dtype=object)"
      ]
     },
     "execution_count": 90,
     "metadata": {},
     "output_type": "execute_result"
    }
   ],
   "source": [
    "df['City'].unique()"
   ]
  },
  {
   "cell_type": "code",
   "execution_count": 91,
   "metadata": {},
   "outputs": [
    {
     "data": {
      "text/plain": [
       "array(['KENT MI', 'KALAMAZOO MI', 'GRAND TRAVERSE MI', 'OTTAWA MI'],\n",
       "      dtype=object)"
      ]
     },
     "execution_count": 91,
     "metadata": {},
     "output_type": "execute_result"
    }
   ],
   "source": [
    "df['County'].unique()"
   ]
  },
  {
   "cell_type": "code",
   "execution_count": 92,
   "metadata": {},
   "outputs": [
    {
     "data": {
      "text/plain": [
       "array(['MCOPCO', 'LICENSEE'], dtype=object)"
      ]
     },
     "execution_count": 92,
     "metadata": {},
     "output_type": "execute_result"
    }
   ],
   "source": [
    "df['owner_label'].unique()"
   ]
  },
  {
   "cell_type": "code",
   "execution_count": 93,
   "metadata": {},
   "outputs": [
    {
     "data": {
      "text/plain": [
       "array(['Y', 'N'], dtype=object)"
      ]
     },
     "execution_count": 93,
     "metadata": {},
     "output_type": "execute_result"
    }
   ],
   "source": [
    "df['trad_label'].unique()"
   ]
  },
  {
   "cell_type": "code",
   "execution_count": 94,
   "metadata": {},
   "outputs": [
    {
     "data": {
      "text/plain": [
       "array([ 1,  2,  3,  4,  5,  6,  7,  8,  9, 10, 11, 12, 13, 14, 15, 16, 17,\n",
       "       18, 19, 20, 21, 22, 23, 24, 25], dtype=int64)"
      ]
     },
     "execution_count": 94,
     "metadata": {},
     "output_type": "execute_result"
    }
   ],
   "source": [
    "df['ItemN'].unique()"
   ]
  },
  {
   "cell_type": "code",
   "execution_count": 95,
   "metadata": {},
   "outputs": [
    {
     "data": {
      "text/plain": [
       "array(['Total All Day Breakfast Items', 'Total Breakfast Sandwich',\n",
       "       'Total McMuffins', 'Egg McMuffin', 'Sausage McMuffin',\n",
       "       'Sausage Egg McMuffin', 'Total Biscuits', 'Bac Egg Ch Biscuit',\n",
       "       'Sausage Biscuit', 'Sausage Egg Biscuit', 'Hashbrown',\n",
       "       'Total McGriddles', 'Bac Egg Ch McGriddle', 'Sau Egg Ch McGriddle',\n",
       "       'Total Bagels', 'Beef Category', 'Large Burgers', 'Big Mac',\n",
       "       'Core QP and QPC', 'Hamburger', 'Cheeseburger', 'Chicken Category',\n",
       "       'Total Fries', 'McChicken', 'McDouble'], dtype=object)"
      ]
     },
     "execution_count": 95,
     "metadata": {},
     "output_type": "execute_result"
    }
   ],
   "source": [
    "df['itemdesc'].unique()"
   ]
  },
  {
   "cell_type": "code",
   "execution_count": 96,
   "metadata": {},
   "outputs": [],
   "source": [
    "df.wk_ending = pd.to_datetime(df.wk_ending, format=\"%m/%d/%y\")"
   ]
  },
  {
   "cell_type": "code",
   "execution_count": 97,
   "metadata": {},
   "outputs": [
    {
     "data": {
      "text/plain": [
       "False    0.984253\n",
       "True     0.015747\n",
       "Name: proportion, dtype: float64"
      ]
     },
     "execution_count": 97,
     "metadata": {},
     "output_type": "execute_result"
    }
   ],
   "source": [
    "df.isna().any(axis='columns').value_counts(normalize=True) # proportion of missing observation"
   ]
  },
  {
   "cell_type": "code",
   "execution_count": 98,
   "metadata": {},
   "outputs": [
    {
     "data": {
      "text/plain": [
       "0        2013-01-12\n",
       "1        2013-01-19\n",
       "2        2013-01-26\n",
       "3        2013-02-02\n",
       "4        2013-02-09\n",
       "            ...    \n",
       "302395   2016-07-23\n",
       "302396   2016-07-30\n",
       "302397   2016-08-06\n",
       "302398   2016-08-13\n",
       "302399   2016-08-20\n",
       "Name: wk_ending, Length: 302400, dtype: datetime64[ns]"
      ]
     },
     "execution_count": 98,
     "metadata": {},
     "output_type": "execute_result"
    }
   ],
   "source": [
    "df.wk_ending"
   ]
  },
  {
   "cell_type": "code",
   "execution_count": 99,
   "metadata": {},
   "outputs": [
    {
     "data": {
      "text/plain": [
       "4762"
      ]
     },
     "execution_count": 99,
     "metadata": {},
     "output_type": "execute_result"
    }
   ],
   "source": [
    "# urws, wavg_price, upt, agc, adu, totunits are missing in the same rows\n",
    "df.loc[df.totunits.isna()].shape[0] "
   ]
  },
  {
   "cell_type": "code",
   "execution_count": 100,
   "metadata": {},
   "outputs": [
    {
     "data": {
      "text/plain": [
       "True"
      ]
     },
     "execution_count": 100,
     "metadata": {},
     "output_type": "execute_result"
    }
   ],
   "source": [
    "df1 = df.loc[df.urws.notna()]\n",
    "(df1.urws == df1.totunits).sum() == df1.shape[0]"
   ]
  },
  {
   "cell_type": "code",
   "execution_count": 102,
   "metadata": {},
   "outputs": [
    {
     "data": {
      "text/html": [
       "<div>\n",
       "<style scoped>\n",
       "    .dataframe tbody tr th:only-of-type {\n",
       "        vertical-align: middle;\n",
       "    }\n",
       "\n",
       "    .dataframe tbody tr th {\n",
       "        vertical-align: top;\n",
       "    }\n",
       "\n",
       "    .dataframe thead th {\n",
       "        text-align: right;\n",
       "    }\n",
       "</style>\n",
       "<table border=\"1\" class=\"dataframe\">\n",
       "  <thead>\n",
       "    <tr style=\"text-align: right;\">\n",
       "      <th></th>\n",
       "      <th>urws / 7</th>\n",
       "      <th>adus</th>\n",
       "    </tr>\n",
       "  </thead>\n",
       "  <tbody>\n",
       "    <tr>\n",
       "      <th>146</th>\n",
       "      <td>8452.0</td>\n",
       "      <td>1408.7</td>\n",
       "    </tr>\n",
       "    <tr>\n",
       "      <th>147</th>\n",
       "      <td>8432.0</td>\n",
       "      <td>1405.3</td>\n",
       "    </tr>\n",
       "    <tr>\n",
       "      <th>375</th>\n",
       "      <td>5654.0</td>\n",
       "      <td>942.3</td>\n",
       "    </tr>\n",
       "    <tr>\n",
       "      <th>381</th>\n",
       "      <td>3725.0</td>\n",
       "      <td>620.8</td>\n",
       "    </tr>\n",
       "    <tr>\n",
       "      <th>491</th>\n",
       "      <td>4146.0</td>\n",
       "      <td>691.0</td>\n",
       "    </tr>\n",
       "  </tbody>\n",
       "</table>\n",
       "</div>"
      ],
      "text/plain": [
       "     urws / 7    adus\n",
       "146    8452.0  1408.7\n",
       "147    8432.0  1405.3\n",
       "375    5654.0   942.3\n",
       "381    3725.0   620.8\n",
       "491    4146.0   691.0"
      ]
     },
     "execution_count": 102,
     "metadata": {},
     "output_type": "execute_result"
    }
   ],
   "source": [
    "df1.loc[((df1.urws/7).round(1) != df1.adus), ['urws', 'adus']].iloc[:5].rename(columns={'urws' : 'urws / 7'})"
   ]
  },
  {
   "cell_type": "code",
   "execution_count": 16,
   "metadata": {},
   "outputs": [
    {
     "data": {
      "text/html": [
       "<div>\n",
       "<style scoped>\n",
       "    .dataframe tbody tr th:only-of-type {\n",
       "        vertical-align: middle;\n",
       "    }\n",
       "\n",
       "    .dataframe tbody tr th {\n",
       "        vertical-align: top;\n",
       "    }\n",
       "\n",
       "    .dataframe thead th {\n",
       "        text-align: right;\n",
       "    }\n",
       "</style>\n",
       "<table border=\"1\" class=\"dataframe\">\n",
       "  <thead>\n",
       "    <tr style=\"text-align: right;\">\n",
       "      <th></th>\n",
       "      <th>urws</th>\n",
       "      <th>adus</th>\n",
       "    </tr>\n",
       "  </thead>\n",
       "  <tbody>\n",
       "    <tr>\n",
       "      <th>146</th>\n",
       "      <td>8452.0</td>\n",
       "      <td>1408.7</td>\n",
       "    </tr>\n",
       "    <tr>\n",
       "      <th>147</th>\n",
       "      <td>8432.0</td>\n",
       "      <td>1405.3</td>\n",
       "    </tr>\n",
       "    <tr>\n",
       "      <th>375</th>\n",
       "      <td>5654.0</td>\n",
       "      <td>942.3</td>\n",
       "    </tr>\n",
       "    <tr>\n",
       "      <th>381</th>\n",
       "      <td>3725.0</td>\n",
       "      <td>620.8</td>\n",
       "    </tr>\n",
       "    <tr>\n",
       "      <th>491</th>\n",
       "      <td>4146.0</td>\n",
       "      <td>691.0</td>\n",
       "    </tr>\n",
       "  </tbody>\n",
       "</table>\n",
       "</div>"
      ],
      "text/plain": [
       "       urws    adus\n",
       "146  8452.0  1408.7\n",
       "147  8432.0  1405.3\n",
       "375  5654.0   942.3\n",
       "381  3725.0   620.8\n",
       "491  4146.0   691.0"
      ]
     },
     "execution_count": 16,
     "metadata": {},
     "output_type": "execute_result"
    }
   ],
   "source": [
    "df1.loc[((df1.urws/7).round(1) != df1.adus), ['urws', 'adus']].iloc[:5]"
   ]
  },
  {
   "cell_type": "code",
   "execution_count": 17,
   "metadata": {},
   "outputs": [
    {
     "name": "stdout",
     "output_type": "stream",
     "text": [
      "<class 'pandas.core.frame.DataFrame'>\n",
      "RangeIndex: 64 entries, 0 to 63\n",
      "Data columns (total 27 columns):\n",
      " #   Column                 Non-Null Count  Dtype  \n",
      "---  ------                 --------------  -----  \n",
      " 0   REST_KEY               64 non-null     int64  \n",
      " 1   rest_label             64 non-null     object \n",
      " 2   Address                64 non-null     object \n",
      " 3   City                   64 non-null     object \n",
      " 4   Zip                    64 non-null     object \n",
      " 5   State                  64 non-null     object \n",
      " 6   County                 64 non-null     object \n",
      " 7   REST_HISP_CONS_MKT     64 non-null     float64\n",
      " 8   REST_AFR_AMR_CONS_MKT  64 non-null     float64\n",
      " 9   REST_ASIAN_CONS_MKT    64 non-null     float64\n",
      " 10  latitude               64 non-null     float64\n",
      " 11  longitude              64 non-null     float64\n",
      " 12  REST_PLYPL_TYP         59 non-null     object \n",
      " 13  REST_DRV_THRU_TYP      64 non-null     object \n",
      " 14  REST_TYPE              64 non-null     object \n",
      " 15  coop_label             64 non-null     object \n",
      " 16  region_label           64 non-null     object \n",
      " 17  ethnic_label           64 non-null     object \n",
      " 18  owner_label            64 non-null     object \n",
      " 19  trad_label             64 non-null     object \n",
      " 20  subtype_label          64 non-null     object \n",
      " 21  incomeq_label          62 non-null     object \n",
      " 22  urban_label            62 non-null     object \n",
      " 23  social_label           62 non-null     object \n",
      " 24  lstage_label           62 non-null     object \n",
      " 25  ppop_09q_label         62 non-null     object \n",
      " 26  pgrowthq_label         62 non-null     object \n",
      "dtypes: float64(5), int64(1), object(21)\n",
      "memory usage: 13.6+ KB\n"
     ]
    }
   ],
   "source": [
    "tb = pd.read_csv('M395_rest_facts.csv')\n",
    "tb.info()"
   ]
  },
  {
   "cell_type": "code",
   "execution_count": 18,
   "metadata": {},
   "outputs": [
    {
     "data": {
      "text/plain": [
       "Index(['REST_KEY', 'rest_label', 'Address', 'City', 'Zip', 'State', 'County',\n",
       "       'REST_HISP_CONS_MKT', 'REST_AFR_AMR_CONS_MKT', 'REST_ASIAN_CONS_MKT',\n",
       "       'latitude', 'longitude', 'REST_PLYPL_TYP', 'REST_DRV_THRU_TYP',\n",
       "       'REST_TYPE', 'coop_label', 'region_label', 'ethnic_label',\n",
       "       'owner_label', 'trad_label', 'subtype_label', 'incomeq_label',\n",
       "       'urban_label', 'social_label', 'lstage_label', 'ppop_09q_label',\n",
       "       'pgrowthq_label'],\n",
       "      dtype='object')"
      ]
     },
     "execution_count": 18,
     "metadata": {},
     "output_type": "execute_result"
    }
   ],
   "source": [
    "tb.columns"
   ]
  },
  {
   "cell_type": "code",
   "execution_count": 19,
   "metadata": {},
   "outputs": [
    {
     "data": {
      "text/plain": [
       "array(['GRAND RAPIDS MI'], dtype=object)"
      ]
     },
     "execution_count": 19,
     "metadata": {},
     "output_type": "execute_result"
    }
   ],
   "source": [
    "tb.coop_label.unique()"
   ]
  },
  {
   "cell_type": "code",
   "execution_count": 20,
   "metadata": {},
   "outputs": [
    {
     "data": {
      "text/plain": [
       "0          49519\n",
       "1          49418\n",
       "2          49009\n",
       "3          49316\n",
       "4          49418\n",
       "         ...    \n",
       "59         49087\n",
       "60    49509-2701\n",
       "61         49525\n",
       "62    49001-1752\n",
       "63    49509-4416\n",
       "Name: Zip, Length: 64, dtype: object"
      ]
     },
     "execution_count": 20,
     "metadata": {},
     "output_type": "execute_result"
    }
   ],
   "source": [
    "tb.Zip"
   ]
  },
  {
   "cell_type": "code",
   "execution_count": 21,
   "metadata": {},
   "outputs": [
    {
     "data": {
      "text/html": [
       "<div>\n",
       "<style scoped>\n",
       "    .dataframe tbody tr th:only-of-type {\n",
       "        vertical-align: middle;\n",
       "    }\n",
       "\n",
       "    .dataframe tbody tr th {\n",
       "        vertical-align: top;\n",
       "    }\n",
       "\n",
       "    .dataframe thead th {\n",
       "        text-align: right;\n",
       "    }\n",
       "</style>\n",
       "<table border=\"1\" class=\"dataframe\">\n",
       "  <thead>\n",
       "    <tr style=\"text-align: right;\">\n",
       "      <th></th>\n",
       "      <th>REST_KEY</th>\n",
       "      <th>REST_HISP_CONS_MKT</th>\n",
       "      <th>REST_AFR_AMR_CONS_MKT</th>\n",
       "      <th>REST_ASIAN_CONS_MKT</th>\n",
       "      <th>latitude</th>\n",
       "      <th>longitude</th>\n",
       "    </tr>\n",
       "  </thead>\n",
       "  <tbody>\n",
       "    <tr>\n",
       "      <th>count</th>\n",
       "      <td>64.000000</td>\n",
       "      <td>64.000000</td>\n",
       "      <td>64.000000</td>\n",
       "      <td>64.000000</td>\n",
       "      <td>64.000000</td>\n",
       "      <td>64.000000</td>\n",
       "    </tr>\n",
       "    <tr>\n",
       "      <th>mean</th>\n",
       "      <td>10886.609375</td>\n",
       "      <td>7.792344</td>\n",
       "      <td>6.356562</td>\n",
       "      <td>2.020938</td>\n",
       "      <td>42.916923</td>\n",
       "      <td>-85.689162</td>\n",
       "    </tr>\n",
       "    <tr>\n",
       "      <th>std</th>\n",
       "      <td>8713.592237</td>\n",
       "      <td>8.970889</td>\n",
       "      <td>8.278495</td>\n",
       "      <td>1.731623</td>\n",
       "      <td>0.613911</td>\n",
       "      <td>0.174958</td>\n",
       "    </tr>\n",
       "    <tr>\n",
       "      <th>min</th>\n",
       "      <td>117.000000</td>\n",
       "      <td>1.560000</td>\n",
       "      <td>0.290000</td>\n",
       "      <td>0.400000</td>\n",
       "      <td>42.122005</td>\n",
       "      <td>-86.221061</td>\n",
       "    </tr>\n",
       "    <tr>\n",
       "      <th>25%</th>\n",
       "      <td>4261.500000</td>\n",
       "      <td>2.530000</td>\n",
       "      <td>0.895000</td>\n",
       "      <td>0.777500</td>\n",
       "      <td>42.687996</td>\n",
       "      <td>-85.724051</td>\n",
       "    </tr>\n",
       "    <tr>\n",
       "      <th>50%</th>\n",
       "      <td>8877.500000</td>\n",
       "      <td>4.055000</td>\n",
       "      <td>2.720000</td>\n",
       "      <td>1.330000</td>\n",
       "      <td>42.909694</td>\n",
       "      <td>-85.659290</td>\n",
       "    </tr>\n",
       "    <tr>\n",
       "      <th>75%</th>\n",
       "      <td>15645.000000</td>\n",
       "      <td>7.325000</td>\n",
       "      <td>8.955000</td>\n",
       "      <td>2.680000</td>\n",
       "      <td>43.014030</td>\n",
       "      <td>-85.587813</td>\n",
       "    </tr>\n",
       "    <tr>\n",
       "      <th>max</th>\n",
       "      <td>36302.000000</td>\n",
       "      <td>54.150000</td>\n",
       "      <td>40.310000</td>\n",
       "      <td>8.190000</td>\n",
       "      <td>44.772187</td>\n",
       "      <td>-85.354259</td>\n",
       "    </tr>\n",
       "  </tbody>\n",
       "</table>\n",
       "</div>"
      ],
      "text/plain": [
       "           REST_KEY  REST_HISP_CONS_MKT  REST_AFR_AMR_CONS_MKT  \\\n",
       "count     64.000000           64.000000              64.000000   \n",
       "mean   10886.609375            7.792344               6.356562   \n",
       "std     8713.592237            8.970889               8.278495   \n",
       "min      117.000000            1.560000               0.290000   \n",
       "25%     4261.500000            2.530000               0.895000   \n",
       "50%     8877.500000            4.055000               2.720000   \n",
       "75%    15645.000000            7.325000               8.955000   \n",
       "max    36302.000000           54.150000              40.310000   \n",
       "\n",
       "       REST_ASIAN_CONS_MKT   latitude  longitude  \n",
       "count            64.000000  64.000000  64.000000  \n",
       "mean              2.020938  42.916923 -85.689162  \n",
       "std               1.731623   0.613911   0.174958  \n",
       "min               0.400000  42.122005 -86.221061  \n",
       "25%               0.777500  42.687996 -85.724051  \n",
       "50%               1.330000  42.909694 -85.659290  \n",
       "75%               2.680000  43.014030 -85.587813  \n",
       "max               8.190000  44.772187 -85.354259  "
      ]
     },
     "execution_count": 21,
     "metadata": {},
     "output_type": "execute_result"
    }
   ],
   "source": [
    "tb.describe()"
   ]
  },
  {
   "cell_type": "code",
   "execution_count": 22,
   "metadata": {},
   "outputs": [
    {
     "data": {
      "text/html": [
       "<div>\n",
       "<style scoped>\n",
       "    .dataframe tbody tr th:only-of-type {\n",
       "        vertical-align: middle;\n",
       "    }\n",
       "\n",
       "    .dataframe tbody tr th {\n",
       "        vertical-align: top;\n",
       "    }\n",
       "\n",
       "    .dataframe thead th {\n",
       "        text-align: right;\n",
       "    }\n",
       "</style>\n",
       "<table border=\"1\" class=\"dataframe\">\n",
       "  <thead>\n",
       "    <tr style=\"text-align: right;\">\n",
       "      <th></th>\n",
       "      <th>REST_KEY</th>\n",
       "      <th>rest_label</th>\n",
       "      <th>Address</th>\n",
       "      <th>City</th>\n",
       "      <th>Zip</th>\n",
       "      <th>State</th>\n",
       "      <th>County</th>\n",
       "      <th>REST_HISP_CONS_MKT</th>\n",
       "      <th>REST_AFR_AMR_CONS_MKT</th>\n",
       "      <th>REST_ASIAN_CONS_MKT</th>\n",
       "      <th>latitude</th>\n",
       "      <th>longitude</th>\n",
       "      <th>REST_PLYPL_TYP</th>\n",
       "      <th>REST_DRV_THRU_TYP</th>\n",
       "      <th>REST_TYPE</th>\n",
       "      <th>coop_label</th>\n",
       "      <th>region_label</th>\n",
       "      <th>ethnic_label</th>\n",
       "      <th>owner_label</th>\n",
       "      <th>trad_label</th>\n",
       "      <th>subtype_label</th>\n",
       "      <th>incomeq_label</th>\n",
       "      <th>urban_label</th>\n",
       "      <th>social_label</th>\n",
       "      <th>lstage_label</th>\n",
       "      <th>ppop_09q_label</th>\n",
       "      <th>pgrowthq_label</th>\n",
       "    </tr>\n",
       "  </thead>\n",
       "  <tbody>\n",
       "    <tr>\n",
       "      <th>0</th>\n",
       "      <td>36277</td>\n",
       "      <td>36277-WYOMING - CHICAGO AND GODFREY</td>\n",
       "      <td>1115 CHICAGO DR SW</td>\n",
       "      <td>WYOMING</td>\n",
       "      <td>49519</td>\n",
       "      <td>MI</td>\n",
       "      <td>KENT MI</td>\n",
       "      <td>54.15</td>\n",
       "      <td>10.39</td>\n",
       "      <td>0.79</td>\n",
       "      <td>42.935777</td>\n",
       "      <td>-85.694556</td>\n",
       "      <td>NONE</td>\n",
       "      <td>SIDE BY SIDE 2 BOOTH</td>\n",
       "      <td>FREESTANDING</td>\n",
       "      <td>GRAND RAPIDS MI</td>\n",
       "      <td>MICHIGAN</td>\n",
       "      <td>HCM</td>\n",
       "      <td>LICENSEE</td>\n",
       "      <td>Y</td>\n",
       "      <td>Traditional</td>\n",
       "      <td>NaN</td>\n",
       "      <td>NaN</td>\n",
       "      <td>NaN</td>\n",
       "      <td>NaN</td>\n",
       "      <td>NaN</td>\n",
       "      <td>NaN</td>\n",
       "    </tr>\n",
       "    <tr>\n",
       "      <th>1</th>\n",
       "      <td>36302</td>\n",
       "      <td>36302-GRANDVILLE - RIVERTOWN &amp; IVANREST</td>\n",
       "      <td>2980 44TH STREET</td>\n",
       "      <td>GRANDVILLE</td>\n",
       "      <td>49418</td>\n",
       "      <td>MI</td>\n",
       "      <td>KENT MI</td>\n",
       "      <td>7.43</td>\n",
       "      <td>3.39</td>\n",
       "      <td>2.21</td>\n",
       "      <td>42.884165</td>\n",
       "      <td>-85.738159</td>\n",
       "      <td>NONE</td>\n",
       "      <td>SIDE BY SIDE 2 BOOTH</td>\n",
       "      <td>FREESTANDING</td>\n",
       "      <td>GRAND RAPIDS MI</td>\n",
       "      <td>MICHIGAN</td>\n",
       "      <td>GCM</td>\n",
       "      <td>LICENSEE</td>\n",
       "      <td>Y</td>\n",
       "      <td>Traditional</td>\n",
       "      <td>NaN</td>\n",
       "      <td>NaN</td>\n",
       "      <td>NaN</td>\n",
       "      <td>NaN</td>\n",
       "      <td>NaN</td>\n",
       "      <td>NaN</td>\n",
       "    </tr>\n",
       "    <tr>\n",
       "      <th>2</th>\n",
       "      <td>26114</td>\n",
       "      <td>26114-OSHTEMO TOWNSHIP</td>\n",
       "      <td>6820 W MAIN (M-43)</td>\n",
       "      <td>KALAMAZOO</td>\n",
       "      <td>49009</td>\n",
       "      <td>MI</td>\n",
       "      <td>KALAMAZOO MI</td>\n",
       "      <td>3.00</td>\n",
       "      <td>5.42</td>\n",
       "      <td>2.45</td>\n",
       "      <td>42.296384</td>\n",
       "      <td>-85.683582</td>\n",
       "      <td>NaN</td>\n",
       "      <td>2 BOOTH COD</td>\n",
       "      <td>FREESTANDING</td>\n",
       "      <td>GRAND RAPIDS MI</td>\n",
       "      <td>MICHIGAN</td>\n",
       "      <td>GCM</td>\n",
       "      <td>LICENSEE</td>\n",
       "      <td>Y</td>\n",
       "      <td>Traditional</td>\n",
       "      <td>1-Highest Income</td>\n",
       "      <td>4-Town and Rural</td>\n",
       "      <td>11 T1- Landed Gentry</td>\n",
       "      <td>01 Y1- Midlif Success</td>\n",
       "      <td>4-2ndLowest PPop_0_9</td>\n",
       "      <td>1-Highest Pgrowth</td>\n",
       "    </tr>\n",
       "    <tr>\n",
       "      <th>3</th>\n",
       "      <td>12839</td>\n",
       "      <td>12839-CALEDONIA</td>\n",
       "      <td>9383 CHERRY VALLEY</td>\n",
       "      <td>CALEDONIA</td>\n",
       "      <td>49316</td>\n",
       "      <td>MI</td>\n",
       "      <td>KENT MI</td>\n",
       "      <td>2.38</td>\n",
       "      <td>0.78</td>\n",
       "      <td>1.06</td>\n",
       "      <td>42.795304</td>\n",
       "      <td>-85.507634</td>\n",
       "      <td>NONE</td>\n",
       "      <td>FACE TO FACE TANDEM</td>\n",
       "      <td>FREESTANDING</td>\n",
       "      <td>GRAND RAPIDS MI</td>\n",
       "      <td>MICHIGAN</td>\n",
       "      <td>GCM</td>\n",
       "      <td>LICENSEE</td>\n",
       "      <td>Y</td>\n",
       "      <td>Traditional</td>\n",
       "      <td>2-2ndHighest Income</td>\n",
       "      <td>4-Town and Rural</td>\n",
       "      <td>12 T2- Country Cmfrt</td>\n",
       "      <td>02 Y2- Young Achievrs</td>\n",
       "      <td>1-Highest PPop_0_9</td>\n",
       "      <td>1-Highest Pgrowth</td>\n",
       "    </tr>\n",
       "    <tr>\n",
       "      <th>4</th>\n",
       "      <td>33312</td>\n",
       "      <td>33312-WYOMING - BYRON CENTER</td>\n",
       "      <td>5631 BYRON CENTER AVE</td>\n",
       "      <td>WYOMING</td>\n",
       "      <td>49418</td>\n",
       "      <td>MI</td>\n",
       "      <td>KENT MI</td>\n",
       "      <td>6.13</td>\n",
       "      <td>2.10</td>\n",
       "      <td>4.34</td>\n",
       "      <td>42.861650</td>\n",
       "      <td>-85.723800</td>\n",
       "      <td>NONE</td>\n",
       "      <td>SIDE BY SIDE 2 BOOTH</td>\n",
       "      <td>FREESTANDING</td>\n",
       "      <td>GRAND RAPIDS MI</td>\n",
       "      <td>MICHIGAN</td>\n",
       "      <td>GCM</td>\n",
       "      <td>LICENSEE</td>\n",
       "      <td>Y</td>\n",
       "      <td>Traditional</td>\n",
       "      <td>1-Highest Income</td>\n",
       "      <td>2-Suburban</td>\n",
       "      <td>05 S2- Affluentials</td>\n",
       "      <td>01 Y1- Midlif Success</td>\n",
       "      <td>1-Highest PPop_0_9</td>\n",
       "      <td>1-Highest Pgrowth</td>\n",
       "    </tr>\n",
       "  </tbody>\n",
       "</table>\n",
       "</div>"
      ],
      "text/plain": [
       "   REST_KEY                               rest_label                Address  \\\n",
       "0     36277      36277-WYOMING - CHICAGO AND GODFREY     1115 CHICAGO DR SW   \n",
       "1     36302  36302-GRANDVILLE - RIVERTOWN & IVANREST       2980 44TH STREET   \n",
       "2     26114                   26114-OSHTEMO TOWNSHIP     6820 W MAIN (M-43)   \n",
       "3     12839                          12839-CALEDONIA     9383 CHERRY VALLEY   \n",
       "4     33312             33312-WYOMING - BYRON CENTER  5631 BYRON CENTER AVE   \n",
       "\n",
       "         City    Zip State        County  REST_HISP_CONS_MKT  \\\n",
       "0     WYOMING  49519    MI       KENT MI               54.15   \n",
       "1  GRANDVILLE  49418    MI       KENT MI                7.43   \n",
       "2   KALAMAZOO  49009    MI  KALAMAZOO MI                3.00   \n",
       "3   CALEDONIA  49316    MI       KENT MI                2.38   \n",
       "4     WYOMING  49418    MI       KENT MI                6.13   \n",
       "\n",
       "   REST_AFR_AMR_CONS_MKT  REST_ASIAN_CONS_MKT   latitude  longitude  \\\n",
       "0                  10.39                 0.79  42.935777 -85.694556   \n",
       "1                   3.39                 2.21  42.884165 -85.738159   \n",
       "2                   5.42                 2.45  42.296384 -85.683582   \n",
       "3                   0.78                 1.06  42.795304 -85.507634   \n",
       "4                   2.10                 4.34  42.861650 -85.723800   \n",
       "\n",
       "  REST_PLYPL_TYP     REST_DRV_THRU_TYP     REST_TYPE       coop_label  \\\n",
       "0           NONE  SIDE BY SIDE 2 BOOTH  FREESTANDING  GRAND RAPIDS MI   \n",
       "1           NONE  SIDE BY SIDE 2 BOOTH  FREESTANDING  GRAND RAPIDS MI   \n",
       "2            NaN           2 BOOTH COD  FREESTANDING  GRAND RAPIDS MI   \n",
       "3           NONE   FACE TO FACE TANDEM  FREESTANDING  GRAND RAPIDS MI   \n",
       "4           NONE  SIDE BY SIDE 2 BOOTH  FREESTANDING  GRAND RAPIDS MI   \n",
       "\n",
       "  region_label ethnic_label owner_label trad_label subtype_label  \\\n",
       "0     MICHIGAN          HCM    LICENSEE          Y   Traditional   \n",
       "1     MICHIGAN          GCM    LICENSEE          Y   Traditional   \n",
       "2     MICHIGAN          GCM    LICENSEE          Y   Traditional   \n",
       "3     MICHIGAN          GCM    LICENSEE          Y   Traditional   \n",
       "4     MICHIGAN          GCM    LICENSEE          Y   Traditional   \n",
       "\n",
       "         incomeq_label       urban_label          social_label  \\\n",
       "0                  NaN               NaN                   NaN   \n",
       "1                  NaN               NaN                   NaN   \n",
       "2     1-Highest Income  4-Town and Rural  11 T1- Landed Gentry   \n",
       "3  2-2ndHighest Income  4-Town and Rural  12 T2- Country Cmfrt   \n",
       "4     1-Highest Income        2-Suburban   05 S2- Affluentials   \n",
       "\n",
       "            lstage_label        ppop_09q_label     pgrowthq_label  \n",
       "0                    NaN                   NaN                NaN  \n",
       "1                    NaN                   NaN                NaN  \n",
       "2  01 Y1- Midlif Success  4-2ndLowest PPop_0_9  1-Highest Pgrowth  \n",
       "3  02 Y2- Young Achievrs    1-Highest PPop_0_9  1-Highest Pgrowth  \n",
       "4  01 Y1- Midlif Success    1-Highest PPop_0_9  1-Highest Pgrowth  "
      ]
     },
     "execution_count": 22,
     "metadata": {},
     "output_type": "execute_result"
    }
   ],
   "source": [
    "tb.head()"
   ]
  },
  {
   "cell_type": "code",
   "execution_count": 23,
   "metadata": {},
   "outputs": [
    {
     "data": {
      "text/plain": [
       "REST_KEY          0\n",
       "rest_label        0\n",
       "Address           0\n",
       "City              0\n",
       "Zip               0\n",
       "                 ..\n",
       "urban_label       2\n",
       "social_label      2\n",
       "lstage_label      2\n",
       "ppop_09q_label    2\n",
       "pgrowthq_label    2\n",
       "Length: 27, dtype: int64"
      ]
     },
     "execution_count": 23,
     "metadata": {},
     "output_type": "execute_result"
    }
   ],
   "source": [
    "# any missing values ?\n",
    "tb.isna().sum()"
   ]
  },
  {
   "cell_type": "code",
   "execution_count": 24,
   "metadata": {},
   "outputs": [
    {
     "data": {
      "text/plain": [
       "0"
      ]
     },
     "execution_count": 24,
     "metadata": {},
     "output_type": "execute_result"
    }
   ],
   "source": [
    "tb.duplicated(subset=['Address', 'City', 'Zip', 'State', 'County']).sum()"
   ]
  },
  {
   "cell_type": "markdown",
   "metadata": {},
   "source": [
    "(need to refine these question until answer them using the data)\n",
    "1. How is the preformance of Franchise vs owned after the promotion ? \n",
    "2. Does location has an impact on the performace ?\n",
    "3. What are some of the products which were boosted most on average and which one slumped ?\n",
    "4. How many months did the promotion effect last ? Was it temporary ?\n",
    "5. During the promoting, how were the sales in the beginning ?\n",
    "## This is just like writing a story. We start with the a situation, and then along the way there are a lot of twists and turns, which arises because of interactions. Data shows us a part of it."
   ]
  },
  {
   "cell_type": "code",
   "execution_count": 25,
   "metadata": {},
   "outputs": [
    {
     "data": {
      "image/png": "[encoded data removed]",
      "text/plain": [
       "<Figure size 640x480 with 1 Axes>"
      ]
     },
     "metadata": {},
     "output_type": "display_data"
    }
   ],
   "source": [
    "tb.City.value_counts().head(10).plot.bar(title = 'Top 10 Cities having the most restaurants')\n",
    "plt.show()"
   ]
  },
  {
   "cell_type": "code",
   "execution_count": 26,
   "metadata": {},
   "outputs": [
    {
     "data": {
      "text/plain": [
       "State\n",
       "MI    64\n",
       "Name: count, dtype: int64"
      ]
     },
     "execution_count": 26,
     "metadata": {},
     "output_type": "execute_result"
    }
   ],
   "source": [
    "tb.State.value_counts()"
   ]
  },
  {
   "cell_type": "code",
   "execution_count": 27,
   "metadata": {},
   "outputs": [
    {
     "data": {
      "text/plain": [
       "County\n",
       "KENT MI              33\n",
       "KALAMAZOO MI         16\n",
       "OTTAWA MI            10\n",
       "GRAND TRAVERSE MI     5\n",
       "Name: count, dtype: int64"
      ]
     },
     "execution_count": 27,
     "metadata": {},
     "output_type": "execute_result"
    }
   ],
   "source": [
    "tb.County.value_counts()"
   ]
  },
  {
   "cell_type": "code",
   "execution_count": 28,
   "metadata": {},
   "outputs": [
    {
     "data": {
      "image/png": "[encoded data removed]",
      "text/plain": [
       "<Figure size 640x480 with 1 Axes>"
      ]
     },
     "metadata": {},
     "output_type": "display_data"
    }
   ],
   "source": [
    "tb.Zip.value_counts().plot(kind='hist', title = 'Distribution of Unique Zip codes')\n",
    "plt.show()"
   ]
  },
  {
   "cell_type": "code",
   "execution_count": 29,
   "metadata": {},
   "outputs": [
    {
     "data": {
      "text/html": [
       "<div>\n",
       "<style scoped>\n",
       "    .dataframe tbody tr th:only-of-type {\n",
       "        vertical-align: middle;\n",
       "    }\n",
       "\n",
       "    .dataframe tbody tr th {\n",
       "        vertical-align: top;\n",
       "    }\n",
       "\n",
       "    .dataframe thead th {\n",
       "        text-align: right;\n",
       "    }\n",
       "</style>\n",
       "<table border=\"1\" class=\"dataframe\">\n",
       "  <thead>\n",
       "    <tr style=\"text-align: right;\">\n",
       "      <th></th>\n",
       "      <th>REST_KEY</th>\n",
       "      <th>rest_label</th>\n",
       "      <th>Address</th>\n",
       "      <th>City</th>\n",
       "      <th>Zip</th>\n",
       "      <th>State</th>\n",
       "      <th>County</th>\n",
       "      <th>REST_HISP_CONS_MKT</th>\n",
       "      <th>REST_AFR_AMR_CONS_MKT</th>\n",
       "      <th>REST_ASIAN_CONS_MKT</th>\n",
       "      <th>latitude</th>\n",
       "      <th>longitude</th>\n",
       "      <th>REST_PLYPL_TYP</th>\n",
       "      <th>REST_DRV_THRU_TYP</th>\n",
       "      <th>REST_TYPE</th>\n",
       "      <th>coop_label</th>\n",
       "      <th>region_label</th>\n",
       "      <th>ethnic_label</th>\n",
       "      <th>owner_label</th>\n",
       "      <th>trad_label</th>\n",
       "      <th>subtype_label</th>\n",
       "      <th>incomeq_label</th>\n",
       "      <th>urban_label</th>\n",
       "      <th>social_label</th>\n",
       "      <th>lstage_label</th>\n",
       "      <th>ppop_09q_label</th>\n",
       "      <th>pgrowthq_label</th>\n",
       "    </tr>\n",
       "  </thead>\n",
       "  <tbody>\n",
       "    <tr>\n",
       "      <th>0</th>\n",
       "      <td>36277</td>\n",
       "      <td>36277-WYOMING - CHICAGO AND GODFREY</td>\n",
       "      <td>1115 CHICAGO DR SW</td>\n",
       "      <td>WYOMING</td>\n",
       "      <td>49519</td>\n",
       "      <td>MI</td>\n",
       "      <td>KENT MI</td>\n",
       "      <td>54.15</td>\n",
       "      <td>10.39</td>\n",
       "      <td>0.79</td>\n",
       "      <td>42.935777</td>\n",
       "      <td>-85.694556</td>\n",
       "      <td>NONE</td>\n",
       "      <td>SIDE BY SIDE 2 BOOTH</td>\n",
       "      <td>FREESTANDING</td>\n",
       "      <td>GRAND RAPIDS MI</td>\n",
       "      <td>MICHIGAN</td>\n",
       "      <td>HCM</td>\n",
       "      <td>LICENSEE</td>\n",
       "      <td>Y</td>\n",
       "      <td>Traditional</td>\n",
       "      <td>NaN</td>\n",
       "      <td>NaN</td>\n",
       "      <td>NaN</td>\n",
       "      <td>NaN</td>\n",
       "      <td>NaN</td>\n",
       "      <td>NaN</td>\n",
       "    </tr>\n",
       "    <tr>\n",
       "      <th>1</th>\n",
       "      <td>36302</td>\n",
       "      <td>36302-GRANDVILLE - RIVERTOWN &amp; IVANREST</td>\n",
       "      <td>2980 44TH STREET</td>\n",
       "      <td>GRANDVILLE</td>\n",
       "      <td>49418</td>\n",
       "      <td>MI</td>\n",
       "      <td>KENT MI</td>\n",
       "      <td>7.43</td>\n",
       "      <td>3.39</td>\n",
       "      <td>2.21</td>\n",
       "      <td>42.884165</td>\n",
       "      <td>-85.738159</td>\n",
       "      <td>NONE</td>\n",
       "      <td>SIDE BY SIDE 2 BOOTH</td>\n",
       "      <td>FREESTANDING</td>\n",
       "      <td>GRAND RAPIDS MI</td>\n",
       "      <td>MICHIGAN</td>\n",
       "      <td>GCM</td>\n",
       "      <td>LICENSEE</td>\n",
       "      <td>Y</td>\n",
       "      <td>Traditional</td>\n",
       "      <td>NaN</td>\n",
       "      <td>NaN</td>\n",
       "      <td>NaN</td>\n",
       "      <td>NaN</td>\n",
       "      <td>NaN</td>\n",
       "      <td>NaN</td>\n",
       "    </tr>\n",
       "  </tbody>\n",
       "</table>\n",
       "</div>"
      ],
      "text/plain": [
       "   REST_KEY                               rest_label             Address  \\\n",
       "0     36277      36277-WYOMING - CHICAGO AND GODFREY  1115 CHICAGO DR SW   \n",
       "1     36302  36302-GRANDVILLE - RIVERTOWN & IVANREST    2980 44TH STREET   \n",
       "\n",
       "         City    Zip State   County  REST_HISP_CONS_MKT  \\\n",
       "0     WYOMING  49519    MI  KENT MI               54.15   \n",
       "1  GRANDVILLE  49418    MI  KENT MI                7.43   \n",
       "\n",
       "   REST_AFR_AMR_CONS_MKT  REST_ASIAN_CONS_MKT   latitude  longitude  \\\n",
       "0                  10.39                 0.79  42.935777 -85.694556   \n",
       "1                   3.39                 2.21  42.884165 -85.738159   \n",
       "\n",
       "  REST_PLYPL_TYP     REST_DRV_THRU_TYP     REST_TYPE       coop_label  \\\n",
       "0           NONE  SIDE BY SIDE 2 BOOTH  FREESTANDING  GRAND RAPIDS MI   \n",
       "1           NONE  SIDE BY SIDE 2 BOOTH  FREESTANDING  GRAND RAPIDS MI   \n",
       "\n",
       "  region_label ethnic_label owner_label trad_label subtype_label  \\\n",
       "0     MICHIGAN          HCM    LICENSEE          Y   Traditional   \n",
       "1     MICHIGAN          GCM    LICENSEE          Y   Traditional   \n",
       "\n",
       "  incomeq_label urban_label social_label lstage_label ppop_09q_label  \\\n",
       "0           NaN         NaN          NaN          NaN            NaN   \n",
       "1           NaN         NaN          NaN          NaN            NaN   \n",
       "\n",
       "  pgrowthq_label  \n",
       "0            NaN  \n",
       "1            NaN  "
      ]
     },
     "execution_count": 29,
     "metadata": {},
     "output_type": "execute_result"
    }
   ],
   "source": [
    "tb.head(2)"
   ]
  },
  {
   "cell_type": "code",
   "execution_count": 30,
   "metadata": {},
   "outputs": [
    {
     "data": {
      "image/png": "[encoded data removed]",
      "text/plain": [
       "<Figure size 640x480 with 1 Axes>"
      ]
     },
     "metadata": {},
     "output_type": "display_data"
    }
   ],
   "source": [
    "sns.scatterplot(x='latitude', y='longitude', hue='owner_label', data = tb)\n",
    "plt.show() # check these by county as well to get the regions "
   ]
  },
  {
   "cell_type": "code",
   "execution_count": 31,
   "metadata": {},
   "outputs": [
    {
     "data": {
      "text/plain": [
       "County             owner_label\n",
       "KENT MI            LICENSEE       23\n",
       "                   MCOPCO         10\n",
       "OTTAWA MI          LICENSEE       10\n",
       "KALAMAZOO MI       MCOPCO          9\n",
       "                   LICENSEE        7\n",
       "GRAND TRAVERSE MI  LICENSEE        5\n",
       "Name: count, dtype: int64"
      ]
     },
     "execution_count": 31,
     "metadata": {},
     "output_type": "execute_result"
    }
   ],
   "source": [
    "tb.value_counts(subset=['County', 'owner_label'])"
   ]
  },
  {
   "cell_type": "code",
   "execution_count": 32,
   "metadata": {},
   "outputs": [
    {
     "data": {
      "text/plain": [
       "Index(['REST_KEY', 'rest_label', 'Address', 'City', 'Zip', 'State', 'County',\n",
       "       'REST_HISP_CONS_MKT', 'REST_AFR_AMR_CONS_MKT', 'REST_ASIAN_CONS_MKT',\n",
       "       'latitude', 'longitude', 'REST_PLYPL_TYP', 'REST_DRV_THRU_TYP',\n",
       "       'REST_TYPE', 'coop_label', 'region_label', 'ethnic_label',\n",
       "       'owner_label', 'trad_label', 'subtype_label', 'incomeq_label',\n",
       "       'urban_label', 'social_label', 'lstage_label', 'ppop_09q_label',\n",
       "       'pgrowthq_label'],\n",
       "      dtype='object')"
      ]
     },
     "execution_count": 32,
     "metadata": {},
     "output_type": "execute_result"
    }
   ],
   "source": [
    "tb.columns"
   ]
  },
  {
   "cell_type": "code",
   "execution_count": 33,
   "metadata": {},
   "outputs": [
    {
     "name": "stderr",
     "output_type": "stream",
     "text": [
      "c:\\Users\\sar31\\AppData\\Local\\Programs\\Python\\Python310\\lib\\site-packages\\seaborn\\_oldcore.py:1119: FutureWarning: use_inf_as_na option is deprecated and will be removed in a future version. Convert inf values to NaN before operating instead.\n",
      "  with pd.option_context('mode.use_inf_as_na', True):\n",
      "c:\\Users\\sar31\\AppData\\Local\\Programs\\Python\\Python310\\lib\\site-packages\\seaborn\\_oldcore.py:1119: FutureWarning: use_inf_as_na option is deprecated and will be removed in a future version. Convert inf values to NaN before operating instead.\n",
      "  with pd.option_context('mode.use_inf_as_na', True):\n",
      "c:\\Users\\sar31\\AppData\\Local\\Programs\\Python\\Python310\\lib\\site-packages\\seaborn\\_oldcore.py:1119: FutureWarning: use_inf_as_na option is deprecated and will be removed in a future version. Convert inf values to NaN before operating instead.\n",
      "  with pd.option_context('mode.use_inf_as_na', True):\n"
     ]
    },
    {
     "data": {
      "text/plain": [
       "<seaborn.axisgrid.PairGrid at 0x1b5efb81f30>"
      ]
     },
     "execution_count": 33,
     "metadata": {},
     "output_type": "execute_result"
    },
    {
     "data": {
      "image/png": "[encoded data removed]",
      "text/plain": [
       "<Figure size 750x750 with 12 Axes>"
      ]
     },
     "metadata": {},
     "output_type": "display_data"
    }
   ],
   "source": [
    "sns.pairplot(tb, vars=['REST_HISP_CONS_MKT', 'REST_AFR_AMR_CONS_MKT', 'REST_ASIAN_CONS_MKT'])"
   ]
  },
  {
   "cell_type": "code",
   "execution_count": 34,
   "metadata": {},
   "outputs": [],
   "source": [
    "df = pd.read_csv('M395_weekly_sales.csv')"
   ]
  },
  {
   "cell_type": "code",
   "execution_count": 35,
   "metadata": {},
   "outputs": [
    {
     "data": {
      "text/plain": [
       "Index(['REST_KEY', 'rest_label', 'City', 'County', 'latitude', 'longitude',\n",
       "       'owner_label', 'trad_label', 'ItemN', 'itemdesc', 'wk_ending', 'urws',\n",
       "       'wavg_price', 'upt', 'agc', 'adus', 'totunits'],\n",
       "      dtype='object')"
      ]
     },
     "execution_count": 35,
     "metadata": {},
     "output_type": "execute_result"
    }
   ],
   "source": [
    "df.columns"
   ]
  },
  {
   "cell_type": "code",
   "execution_count": 36,
   "metadata": {},
   "outputs": [
    {
     "data": {
      "text/html": [
       "<div>\n",
       "<style scoped>\n",
       "    .dataframe tbody tr th:only-of-type {\n",
       "        vertical-align: middle;\n",
       "    }\n",
       "\n",
       "    .dataframe tbody tr th {\n",
       "        vertical-align: top;\n",
       "    }\n",
       "\n",
       "    .dataframe thead th {\n",
       "        text-align: right;\n",
       "    }\n",
       "</style>\n",
       "<table border=\"1\" class=\"dataframe\">\n",
       "  <thead>\n",
       "    <tr style=\"text-align: right;\">\n",
       "      <th></th>\n",
       "      <th>REST_KEY</th>\n",
       "      <th>latitude</th>\n",
       "      <th>longitude</th>\n",
       "      <th>ItemN</th>\n",
       "      <th>urws</th>\n",
       "      <th>wavg_price</th>\n",
       "      <th>upt</th>\n",
       "      <th>agc</th>\n",
       "      <th>adus</th>\n",
       "      <th>totunits</th>\n",
       "    </tr>\n",
       "  </thead>\n",
       "  <tbody>\n",
       "    <tr>\n",
       "      <th>count</th>\n",
       "      <td>302400.000000</td>\n",
       "      <td>302400.000000</td>\n",
       "      <td>302400.000000</td>\n",
       "      <td>302400.000000</td>\n",
       "      <td>297638.000000</td>\n",
       "      <td>297638.000000</td>\n",
       "      <td>297638.000000</td>\n",
       "      <td>297638.000000</td>\n",
       "      <td>297638.000000</td>\n",
       "      <td>297638.000000</td>\n",
       "    </tr>\n",
       "    <tr>\n",
       "      <th>mean</th>\n",
       "      <td>10886.609375</td>\n",
       "      <td>42.916923</td>\n",
       "      <td>-85.689162</td>\n",
       "      <td>13.000000</td>\n",
       "      <td>1385.219404</td>\n",
       "      <td>2.253532</td>\n",
       "      <td>150.597909</td>\n",
       "      <td>1327.021223</td>\n",
       "      <td>198.697110</td>\n",
       "      <td>1385.219404</td>\n",
       "    </tr>\n",
       "    <tr>\n",
       "      <th>std</th>\n",
       "      <td>8645.263576</td>\n",
       "      <td>0.609097</td>\n",
       "      <td>0.173586</td>\n",
       "      <td>7.211114</td>\n",
       "      <td>1687.315560</td>\n",
       "      <td>0.989593</td>\n",
       "      <td>174.004937</td>\n",
       "      <td>335.068459</td>\n",
       "      <td>241.734984</td>\n",
       "      <td>1687.315560</td>\n",
       "    </tr>\n",
       "    <tr>\n",
       "      <th>min</th>\n",
       "      <td>117.000000</td>\n",
       "      <td>42.122005</td>\n",
       "      <td>-86.221061</td>\n",
       "      <td>1.000000</td>\n",
       "      <td>3.000000</td>\n",
       "      <td>0.510000</td>\n",
       "      <td>1.300000</td>\n",
       "      <td>293.700000</td>\n",
       "      <td>1.000000</td>\n",
       "      <td>3.000000</td>\n",
       "    </tr>\n",
       "    <tr>\n",
       "      <th>25%</th>\n",
       "      <td>4261.500000</td>\n",
       "      <td>42.687996</td>\n",
       "      <td>-85.724051</td>\n",
       "      <td>7.000000</td>\n",
       "      <td>265.000000</td>\n",
       "      <td>1.250000</td>\n",
       "      <td>29.600000</td>\n",
       "      <td>1081.300000</td>\n",
       "      <td>38.000000</td>\n",
       "      <td>265.000000</td>\n",
       "    </tr>\n",
       "    <tr>\n",
       "      <th>50%</th>\n",
       "      <td>8877.500000</td>\n",
       "      <td>42.909694</td>\n",
       "      <td>-85.659290</td>\n",
       "      <td>13.000000</td>\n",
       "      <td>646.000000</td>\n",
       "      <td>2.230000</td>\n",
       "      <td>70.300000</td>\n",
       "      <td>1314.900000</td>\n",
       "      <td>92.700000</td>\n",
       "      <td>646.000000</td>\n",
       "    </tr>\n",
       "    <tr>\n",
       "      <th>75%</th>\n",
       "      <td>15645.000000</td>\n",
       "      <td>43.014030</td>\n",
       "      <td>-85.587813</td>\n",
       "      <td>19.000000</td>\n",
       "      <td>1789.000000</td>\n",
       "      <td>2.990000</td>\n",
       "      <td>194.600000</td>\n",
       "      <td>1561.300000</td>\n",
       "      <td>257.000000</td>\n",
       "      <td>1789.000000</td>\n",
       "    </tr>\n",
       "    <tr>\n",
       "      <th>max</th>\n",
       "      <td>36302.000000</td>\n",
       "      <td>44.772187</td>\n",
       "      <td>-85.354259</td>\n",
       "      <td>25.000000</td>\n",
       "      <td>13217.000000</td>\n",
       "      <td>5.530000</td>\n",
       "      <td>1268.000000</td>\n",
       "      <td>2670.000000</td>\n",
       "      <td>1888.100000</td>\n",
       "      <td>13217.000000</td>\n",
       "    </tr>\n",
       "  </tbody>\n",
       "</table>\n",
       "</div>"
      ],
      "text/plain": [
       "            REST_KEY       latitude      longitude          ItemN  \\\n",
       "count  302400.000000  302400.000000  302400.000000  302400.000000   \n",
       "mean    10886.609375      42.916923     -85.689162      13.000000   \n",
       "std      8645.263576       0.609097       0.173586       7.211114   \n",
       "min       117.000000      42.122005     -86.221061       1.000000   \n",
       "25%      4261.500000      42.687996     -85.724051       7.000000   \n",
       "50%      8877.500000      42.909694     -85.659290      13.000000   \n",
       "75%     15645.000000      43.014030     -85.587813      19.000000   \n",
       "max     36302.000000      44.772187     -85.354259      25.000000   \n",
       "\n",
       "                urws     wavg_price            upt            agc  \\\n",
       "count  297638.000000  297638.000000  297638.000000  297638.000000   \n",
       "mean     1385.219404       2.253532     150.597909    1327.021223   \n",
       "std      1687.315560       0.989593     174.004937     335.068459   \n",
       "min         3.000000       0.510000       1.300000     293.700000   \n",
       "25%       265.000000       1.250000      29.600000    1081.300000   \n",
       "50%       646.000000       2.230000      70.300000    1314.900000   \n",
       "75%      1789.000000       2.990000     194.600000    1561.300000   \n",
       "max     13217.000000       5.530000    1268.000000    2670.000000   \n",
       "\n",
       "                adus       totunits  \n",
       "count  297638.000000  297638.000000  \n",
       "mean      198.697110    1385.219404  \n",
       "std       241.734984    1687.315560  \n",
       "min         1.000000       3.000000  \n",
       "25%        38.000000     265.000000  \n",
       "50%        92.700000     646.000000  \n",
       "75%       257.000000    1789.000000  \n",
       "max      1888.100000   13217.000000  "
      ]
     },
     "execution_count": 36,
     "metadata": {},
     "output_type": "execute_result"
    }
   ],
   "source": [
    "df.describe()"
   ]
  },
  {
   "cell_type": "code",
   "execution_count": 37,
   "metadata": {},
   "outputs": [
    {
     "data": {
      "text/plain": [
       "REST_KEY          0\n",
       "rest_label        0\n",
       "City              0\n",
       "County            0\n",
       "latitude          0\n",
       "longitude         0\n",
       "owner_label       0\n",
       "trad_label        0\n",
       "ItemN             0\n",
       "itemdesc          0\n",
       "wk_ending         0\n",
       "urws           4762\n",
       "wavg_price     4762\n",
       "upt            4762\n",
       "agc            4762\n",
       "adus           4762\n",
       "totunits       4762\n",
       "dtype: int64"
      ]
     },
     "execution_count": 37,
     "metadata": {},
     "output_type": "execute_result"
    }
   ],
   "source": [
    "df.isna().sum() # may be the restaurants were not functioning when reading were taken, therefore we have missing values"
   ]
  },
  {
   "cell_type": "code",
   "execution_count": 38,
   "metadata": {},
   "outputs": [
    {
     "data": {
      "text/plain": [
       "City\n",
       "GRAND RAPIDS     51975\n",
       "KALAMAZOO        47250\n",
       "WYOMING          28350\n",
       "TRAVERSE CITY    18900\n",
       "HOLLAND          14175\n",
       "                 ...  \n",
       "SPARTA            4725\n",
       "LOWELL            4725\n",
       "CEDAR SPRINGS     4725\n",
       "GRAND HAVEN       4725\n",
       "GRANDVILLE        4725\n",
       "Name: count, Length: 28, dtype: int64"
      ]
     },
     "execution_count": 38,
     "metadata": {},
     "output_type": "execute_result"
    }
   ],
   "source": [
    "df.City.value_counts() # does not give much information"
   ]
  },
  {
   "cell_type": "markdown",
   "metadata": {},
   "source": [
    "look into profits, and customer count at county level, then city level, and then at individual restaurant level\n",
    "Also look into which retaurants have  missing data, find their id, and locations, and at what point in time do they have\n",
    "missing data, and how many of them have this problem."
   ]
  },
  {
   "cell_type": "code",
   "execution_count": 39,
   "metadata": {},
   "outputs": [
    {
     "data": {
      "text/plain": [
       "array(['WYOMING', 'GRAND RAPIDS', 'KALAMAZOO', 'KENTWOOD',\n",
       "       'TRAVERSE CITY', 'WALKER', 'PORTAGE', 'JENISON', 'HOLLAND',\n",
       "       'GRAND HAVEN', 'CEDAR SPRINGS', 'LOWELL', 'SPARTA', 'COOPERSVILLE',\n",
       "       'HUDSONVILLE', 'ROCKFORD', 'SCHOOLCRAFT', 'COMSTOCK PARK',\n",
       "       'WILLIAMSBURG', 'CALEDONIA', 'ZEELAND', 'GALESBURG', 'ALLENDALE',\n",
       "       'ADA', 'SPRING LAKE', 'BYRON CENTER', 'RICHLAND', 'GRANDVILLE'],\n",
       "      dtype=object)"
      ]
     },
     "execution_count": 39,
     "metadata": {},
     "output_type": "execute_result"
    }
   ],
   "source": [
    "df.City.unique()"
   ]
  },
  {
   "cell_type": "code",
   "execution_count": 40,
   "metadata": {},
   "outputs": [
    {
     "data": {
      "text/plain": [
       "array(['MCOPCO', 'LICENSEE'], dtype=object)"
      ]
     },
     "execution_count": 40,
     "metadata": {},
     "output_type": "execute_result"
    }
   ],
   "source": [
    "'owner_label', 'trad_label', 'ItemN', 'itemdesc'\n",
    "df.owner_label.unique() # value count does not help here because the values across the timescale are aggregated"
   ]
  },
  {
   "cell_type": "code",
   "execution_count": 41,
   "metadata": {},
   "outputs": [
    {
     "data": {
      "text/plain": [
       "array(['Y', 'N'], dtype=object)"
      ]
     },
     "execution_count": 41,
     "metadata": {},
     "output_type": "execute_result"
    }
   ],
   "source": [
    "df.trad_label.unique()"
   ]
  },
  {
   "cell_type": "code",
   "execution_count": 42,
   "metadata": {},
   "outputs": [
    {
     "data": {
      "text/plain": [
       "array([ 1,  2,  3,  4,  5,  6,  7,  8,  9, 10, 11, 12, 13, 14, 15, 16, 17,\n",
       "       18, 19, 20, 21, 22, 23, 24, 25], dtype=int64)"
      ]
     },
     "execution_count": 42,
     "metadata": {},
     "output_type": "execute_result"
    }
   ],
   "source": [
    "df.ItemN.unique() # what is this ?"
   ]
  },
  {
   "cell_type": "code",
   "execution_count": 43,
   "metadata": {},
   "outputs": [
    {
     "data": {
      "text/plain": [
       "itemdesc\n",
       "Total All Day Breakfast Items    12096\n",
       "Sau Egg Ch McGriddle             12096\n",
       "McChicken                        12096\n",
       "Total Fries                      12096\n",
       "Chicken Category                 12096\n",
       "                                 ...  \n",
       "Sausage Egg McMuffin             12096\n",
       "Sausage McMuffin                 12096\n",
       "Egg McMuffin                     12096\n",
       "Total McMuffins                  12096\n",
       "McDouble                         12096\n",
       "Name: count, Length: 25, dtype: int64"
      ]
     },
     "execution_count": 43,
     "metadata": {},
     "output_type": "execute_result"
    }
   ],
   "source": [
    "df.itemdesc.value_counts() # these categories are constant for each restaurant, hence they appear across each observation"
   ]
  },
  {
   "cell_type": "code",
   "execution_count": 44,
   "metadata": {},
   "outputs": [
    {
     "data": {
      "text/plain": [
       "array(['Total All Day Breakfast Items', 'Total Breakfast Sandwich',\n",
       "       'Total McMuffins', 'Egg McMuffin', 'Sausage McMuffin',\n",
       "       'Sausage Egg McMuffin', 'Total Biscuits', 'Bac Egg Ch Biscuit',\n",
       "       'Sausage Biscuit', 'Sausage Egg Biscuit', 'Hashbrown',\n",
       "       'Total McGriddles', 'Bac Egg Ch McGriddle', 'Sau Egg Ch McGriddle',\n",
       "       'Total Bagels', 'Beef Category', 'Large Burgers', 'Big Mac',\n",
       "       'Core QP and QPC', 'Hamburger', 'Cheeseburger', 'Chicken Category',\n",
       "       'Total Fries', 'McChicken', 'McDouble'], dtype=object)"
      ]
     },
     "execution_count": 44,
     "metadata": {},
     "output_type": "execute_result"
    }
   ],
   "source": [
    "df.itemdesc.unique()"
   ]
  },
  {
   "cell_type": "code",
   "execution_count": 45,
   "metadata": {},
   "outputs": [
    {
     "data": {
      "text/plain": [
       "25"
      ]
     },
     "execution_count": 45,
     "metadata": {},
     "output_type": "execute_result"
    }
   ],
   "source": [
    "df.itemdesc.unique().size"
   ]
  },
  {
   "cell_type": "code",
   "execution_count": 46,
   "metadata": {},
   "outputs": [
    {
     "data": {
      "text/plain": [
       "('wk_ending',\n",
       " 'urws',\n",
       " 'wavg_price',\n",
       " 'upt',\n",
       " 'agc',\n",
       " 'adus',\n",
       " 'City',\n",
       " 'County',\n",
       " 'latitude',\n",
       " 'longitude',\n",
       " 'owner_label',\n",
       " 'trad_label')"
      ]
     },
     "execution_count": 46,
     "metadata": {},
     "output_type": "execute_result"
    }
   ],
   "source": [
    "'wk_ending', 'urws', 'wavg_price', 'upt', 'agc', 'adus', 'City', 'County', 'latitude', 'longitude', 'owner_label', 'trad_label'"
   ]
  },
  {
   "cell_type": "code",
   "execution_count": 47,
   "metadata": {},
   "outputs": [
    {
     "data": {
      "text/plain": [
       "0   2013-01-12\n",
       "1   2013-01-19\n",
       "2   2013-01-26\n",
       "3   2013-02-02\n",
       "4   2013-02-09\n",
       "Name: wk_ending, dtype: datetime64[ns]"
      ]
     },
     "execution_count": 47,
     "metadata": {},
     "output_type": "execute_result"
    }
   ],
   "source": [
    "df.wk_ending = pd.to_datetime(df.wk_ending, format='%m/%d/%y')\n",
    "df.wk_ending.head()"
   ]
  },
  {
   "cell_type": "code",
   "execution_count": 53,
   "metadata": {},
   "outputs": [
    {
     "data": {
      "text/plain": [
       "rest_label                      trad_label\n",
       "02308-WALKER-ALPINE             Y            2015-05-09\n",
       "04635-TRAVRS-US 31-SOUTH        Y            2013-05-04\n",
       "05238-HOLLAND-RIVER             Y            2013-04-13\n",
       "16773-THRNAPLE VILLAGE          N            2013-01-12\n",
       "36277-WYOMING - CHICAGO AND GO  Y            2013-01-12\n",
       "36302-GRANDVILLE - RIVERTOWN &  Y            2013-01-12\n",
       "Name: wk_ending, dtype: datetime64[ns]"
      ]
     },
     "execution_count": 53,
     "metadata": {},
     "output_type": "execute_result"
    }
   ],
   "source": [
    "df.loc[df.urws.isna(), ['wk_ending', 'rest_label', 'trad_label']].groupby(['rest_label', 'trad_label']).wk_ending.apply(lambda x: x.min())"
   ]
  },
  {
   "cell_type": "code",
   "execution_count": 130,
   "metadata": {},
   "outputs": [
    {
     "data": {
      "text/plain": [
       "rest_label\n",
       "02308-WALKER-ALPINE                63 days\n",
       "04635-TRAVRS-US 31-SOUTH            0 days\n",
       "05238-HOLLAND-RIVER                63 days\n",
       "16773-THRNAPLE VILLAGE           1316 days\n",
       "36277-WYOMING - CHICAGO AND GO    539 days\n",
       "36302-GRANDVILLE - RIVERTOWN &    210 days\n",
       "Name: wk_ending, dtype: timedelta64[ns]"
      ]
     },
     "execution_count": 130,
     "metadata": {},
     "output_type": "execute_result"
    }
   ],
   "source": [
    "# subtracting dates is not correct because it is not a contiguous period\n",
    "df.loc[df.urws.isna(), ['wk_ending', 'rest_label']].groupby('rest_label').wk_ending.apply(lambda x: x.max() - x.min())"
   ]
  },
  {
   "cell_type": "code",
   "execution_count": 131,
   "metadata": {},
   "outputs": [
    {
     "data": {
      "text/plain": [
       "(25, 17)"
      ]
     },
     "execution_count": 131,
     "metadata": {},
     "output_type": "execute_result"
    }
   ],
   "source": [
    "df.loc[(df.rest_label == \"04635-TRAVRS-US 31-SOUTH\") & (df.urws.isna())].shape # only one week of data 2013/5/4 missing \n",
    "# we have 25 unique items in total"
   ]
  },
  {
   "cell_type": "code",
   "execution_count": 73,
   "metadata": {},
   "outputs": [
    {
     "data": {
      "text/plain": [
       "County             rest_label                      owner_label  trad_label\n",
       "GRAND TRAVERSE MI  04635-TRAVRS-US 31-SOUTH        LICENSEE     Y            2013-05-04\n",
       "KENT MI            02308-WALKER-ALPINE             LICENSEE     Y            2015-05-09\n",
       "                   16773-THRNAPLE VILLAGE          LICENSEE     N            2013-01-12\n",
       "                   36277-WYOMING - CHICAGO AND GO  LICENSEE     Y            2013-01-12\n",
       "                   36302-GRANDVILLE - RIVERTOWN &  LICENSEE     Y            2013-01-12\n",
       "OTTAWA MI          05238-HOLLAND-RIVER             LICENSEE     Y            2013-04-13\n",
       "Name: wk_ending, dtype: datetime64[ns]"
      ]
     },
     "execution_count": 73,
     "metadata": {},
     "output_type": "execute_result"
    }
   ],
   "source": [
    "a = (\n",
    "    df.loc[df.urws.isna(), ['wk_ending', 'rest_label', 'County','owner_label', 'trad_label']].\n",
    "    groupby(['County', 'rest_label', 'owner_label', 'trad_label']).\n",
    "    wk_ending.\n",
    "    apply(lambda x:x.min())\n",
    ")\n",
    "a\n",
    "# look all of them were Licensee, and Thrnaple Village was a non-traditional restaurant. This begs the question why the Mcdonalds owned do not have any missing data ? Is the data missing because it was management oversight on part of Licensee and it increases in a non-traditional restaurant. "
   ]
  },
  {
   "cell_type": "code",
   "execution_count": 74,
   "metadata": {},
   "outputs": [
    {
     "data": {
      "text/html": [
       "<div>\n",
       "<style scoped>\n",
       "    .dataframe tbody tr th:only-of-type {\n",
       "        vertical-align: middle;\n",
       "    }\n",
       "\n",
       "    .dataframe tbody tr th {\n",
       "        vertical-align: top;\n",
       "    }\n",
       "\n",
       "    .dataframe thead th {\n",
       "        text-align: right;\n",
       "    }\n",
       "</style>\n",
       "<table border=\"1\" class=\"dataframe\">\n",
       "  <thead>\n",
       "    <tr style=\"text-align: right;\">\n",
       "      <th></th>\n",
       "      <th></th>\n",
       "      <th></th>\n",
       "      <th></th>\n",
       "      <th>missing_count</th>\n",
       "    </tr>\n",
       "    <tr>\n",
       "      <th>County</th>\n",
       "      <th>rest_label</th>\n",
       "      <th>owner_label</th>\n",
       "      <th>trad_label</th>\n",
       "      <th></th>\n",
       "    </tr>\n",
       "  </thead>\n",
       "  <tbody>\n",
       "    <tr>\n",
       "      <th>GRAND TRAVERSE MI</th>\n",
       "      <th>04635-TRAVRS-US 31-SOUTH</th>\n",
       "      <th>LICENSEE</th>\n",
       "      <th>Y</th>\n",
       "      <td>25</td>\n",
       "    </tr>\n",
       "    <tr>\n",
       "      <th rowspan=\"4\" valign=\"top\">KENT MI</th>\n",
       "      <th>02308-WALKER-ALPINE</th>\n",
       "      <th>LICENSEE</th>\n",
       "      <th>Y</th>\n",
       "      <td>250</td>\n",
       "    </tr>\n",
       "    <tr>\n",
       "      <th>16773-THRNAPLE VILLAGE</th>\n",
       "      <th>LICENSEE</th>\n",
       "      <th>N</th>\n",
       "      <td>1512</td>\n",
       "    </tr>\n",
       "    <tr>\n",
       "      <th>36277-WYOMING - CHICAGO AND GO</th>\n",
       "      <th>LICENSEE</th>\n",
       "      <th>Y</th>\n",
       "      <td>1950</td>\n",
       "    </tr>\n",
       "    <tr>\n",
       "      <th>36302-GRANDVILLE - RIVERTOWN &amp;</th>\n",
       "      <th>LICENSEE</th>\n",
       "      <th>Y</th>\n",
       "      <td>775</td>\n",
       "    </tr>\n",
       "    <tr>\n",
       "      <th>OTTAWA MI</th>\n",
       "      <th>05238-HOLLAND-RIVER</th>\n",
       "      <th>LICENSEE</th>\n",
       "      <th>Y</th>\n",
       "      <td>250</td>\n",
       "    </tr>\n",
       "  </tbody>\n",
       "</table>\n",
       "</div>"
      ],
      "text/plain": [
       "                                                                         missing_count\n",
       "County            rest_label                     owner_label trad_label               \n",
       "GRAND TRAVERSE MI 04635-TRAVRS-US 31-SOUTH       LICENSEE    Y                      25\n",
       "KENT MI           02308-WALKER-ALPINE            LICENSEE    Y                     250\n",
       "                  16773-THRNAPLE VILLAGE         LICENSEE    N                    1512\n",
       "                  36277-WYOMING - CHICAGO AND GO LICENSEE    Y                    1950\n",
       "                  36302-GRANDVILLE - RIVERTOWN & LICENSEE    Y                     775\n",
       "OTTAWA MI         05238-HOLLAND-RIVER            LICENSEE    Y                     250"
      ]
     },
     "execution_count": 74,
     "metadata": {},
     "output_type": "execute_result"
    }
   ],
   "source": [
    "df['missing_count'] = df.urws.isna()\n",
    "\n",
    "b = (\n",
    "    df.loc[df.urws.isna(), ['missing_count', 'rest_label', 'County','owner_label', 'trad_label']].\n",
    "    groupby(['County', 'rest_label', 'owner_label', 'trad_label']).\n",
    "    count()\n",
    ")\n",
    "b"
   ]
  },
  {
   "cell_type": "code",
   "execution_count": 84,
   "metadata": {},
   "outputs": [
    {
     "data": {
      "text/html": [
       "<div>\n",
       "<style scoped>\n",
       "    .dataframe tbody tr th:only-of-type {\n",
       "        vertical-align: middle;\n",
       "    }\n",
       "\n",
       "    .dataframe tbody tr th {\n",
       "        vertical-align: top;\n",
       "    }\n",
       "\n",
       "    .dataframe thead th {\n",
       "        text-align: right;\n",
       "    }\n",
       "</style>\n",
       "<table border=\"1\" class=\"dataframe\">\n",
       "  <thead>\n",
       "    <tr style=\"text-align: right;\">\n",
       "      <th></th>\n",
       "      <th></th>\n",
       "      <th></th>\n",
       "      <th></th>\n",
       "      <th>missing_count</th>\n",
       "      <th>start_date</th>\n",
       "    </tr>\n",
       "    <tr>\n",
       "      <th>County</th>\n",
       "      <th>rest_label</th>\n",
       "      <th>owner_label</th>\n",
       "      <th>trad_label</th>\n",
       "      <th></th>\n",
       "      <th></th>\n",
       "    </tr>\n",
       "  </thead>\n",
       "  <tbody>\n",
       "    <tr>\n",
       "      <th>GRAND TRAVERSE MI</th>\n",
       "      <th>04635-TRAVRS-US 31-SOUTH</th>\n",
       "      <th>LICENSEE</th>\n",
       "      <th>Y</th>\n",
       "      <td>25</td>\n",
       "      <td>2013-05-04</td>\n",
       "    </tr>\n",
       "    <tr>\n",
       "      <th rowspan=\"4\" valign=\"top\">KENT MI</th>\n",
       "      <th>02308-WALKER-ALPINE</th>\n",
       "      <th>LICENSEE</th>\n",
       "      <th>Y</th>\n",
       "      <td>250</td>\n",
       "      <td>2015-05-09</td>\n",
       "    </tr>\n",
       "    <tr>\n",
       "      <th>16773-THRNAPLE VILLAGE</th>\n",
       "      <th>LICENSEE</th>\n",
       "      <th>N</th>\n",
       "      <td>1512</td>\n",
       "      <td>2013-01-12</td>\n",
       "    </tr>\n",
       "    <tr>\n",
       "      <th>36277-WYOMING - CHICAGO AND GO</th>\n",
       "      <th>LICENSEE</th>\n",
       "      <th>Y</th>\n",
       "      <td>1950</td>\n",
       "      <td>2013-01-12</td>\n",
       "    </tr>\n",
       "    <tr>\n",
       "      <th>36302-GRANDVILLE - RIVERTOWN &amp;</th>\n",
       "      <th>LICENSEE</th>\n",
       "      <th>Y</th>\n",
       "      <td>775</td>\n",
       "      <td>2013-01-12</td>\n",
       "    </tr>\n",
       "    <tr>\n",
       "      <th>OTTAWA MI</th>\n",
       "      <th>05238-HOLLAND-RIVER</th>\n",
       "      <th>LICENSEE</th>\n",
       "      <th>Y</th>\n",
       "      <td>250</td>\n",
       "      <td>2013-04-13</td>\n",
       "    </tr>\n",
       "  </tbody>\n",
       "</table>\n",
       "</div>"
      ],
      "text/plain": [
       "                                                                         missing_count  \\\n",
       "County            rest_label                     owner_label trad_label                  \n",
       "GRAND TRAVERSE MI 04635-TRAVRS-US 31-SOUTH       LICENSEE    Y                      25   \n",
       "KENT MI           02308-WALKER-ALPINE            LICENSEE    Y                     250   \n",
       "                  16773-THRNAPLE VILLAGE         LICENSEE    N                    1512   \n",
       "                  36277-WYOMING - CHICAGO AND GO LICENSEE    Y                    1950   \n",
       "                  36302-GRANDVILLE - RIVERTOWN & LICENSEE    Y                     775   \n",
       "OTTAWA MI         05238-HOLLAND-RIVER            LICENSEE    Y                     250   \n",
       "\n",
       "                                                                        start_date  \n",
       "County            rest_label                     owner_label trad_label             \n",
       "GRAND TRAVERSE MI 04635-TRAVRS-US 31-SOUTH       LICENSEE    Y          2013-05-04  \n",
       "KENT MI           02308-WALKER-ALPINE            LICENSEE    Y          2015-05-09  \n",
       "                  16773-THRNAPLE VILLAGE         LICENSEE    N          2013-01-12  \n",
       "                  36277-WYOMING - CHICAGO AND GO LICENSEE    Y          2013-01-12  \n",
       "                  36302-GRANDVILLE - RIVERTOWN & LICENSEE    Y          2013-01-12  \n",
       "OTTAWA MI         05238-HOLLAND-RIVER            LICENSEE    Y          2013-04-13  "
      ]
     },
     "execution_count": 84,
     "metadata": {},
     "output_type": "execute_result"
    }
   ],
   "source": [
    "b.join(a).rename(columns={'wk_ending':'start_date'})"
   ]
  },
  {
   "cell_type": "code",
   "execution_count": 133,
   "metadata": {},
   "outputs": [],
   "source": [
    "# Let us look at why thrnaple village(store-front non-traditional restaurant) has this much data missing\n",
    "# how to check if this is a contiguous period or not ?\n",
    "temp_df = df.loc[(df.rest_label == \"16773-THRNAPLE VILLAGE\") & (df.urws.isna())].copy()"
   ]
  },
  {
   "cell_type": "code",
   "execution_count": 134,
   "metadata": {},
   "outputs": [
    {
     "data": {
      "text/html": [
       "<div>\n",
       "<style scoped>\n",
       "    .dataframe tbody tr th:only-of-type {\n",
       "        vertical-align: middle;\n",
       "    }\n",
       "\n",
       "    .dataframe tbody tr th {\n",
       "        vertical-align: top;\n",
       "    }\n",
       "\n",
       "    .dataframe thead th {\n",
       "        text-align: right;\n",
       "    }\n",
       "</style>\n",
       "<table border=\"1\" class=\"dataframe\">\n",
       "  <thead>\n",
       "    <tr style=\"text-align: right;\">\n",
       "      <th></th>\n",
       "      <th>REST_KEY</th>\n",
       "      <th>rest_label</th>\n",
       "      <th>City</th>\n",
       "      <th>County</th>\n",
       "      <th>latitude</th>\n",
       "      <th>longitude</th>\n",
       "      <th>owner_label</th>\n",
       "      <th>trad_label</th>\n",
       "      <th>ItemN</th>\n",
       "      <th>itemdesc</th>\n",
       "      <th>wk_ending</th>\n",
       "      <th>urws</th>\n",
       "      <th>wavg_price</th>\n",
       "      <th>upt</th>\n",
       "      <th>agc</th>\n",
       "      <th>adus</th>\n",
       "      <th>totunits</th>\n",
       "    </tr>\n",
       "  </thead>\n",
       "  <tbody>\n",
       "    <tr>\n",
       "      <th>82026</th>\n",
       "      <td>16773</td>\n",
       "      <td>16773-THRNAPLE VILLAGE</td>\n",
       "      <td>ADA</td>\n",
       "      <td>KENT MI</td>\n",
       "      <td>42.954684</td>\n",
       "      <td>-85.484517</td>\n",
       "      <td>LICENSEE</td>\n",
       "      <td>N</td>\n",
       "      <td>7</td>\n",
       "      <td>Total Biscuits</td>\n",
       "      <td>2013-01-12</td>\n",
       "      <td>NaN</td>\n",
       "      <td>NaN</td>\n",
       "      <td>NaN</td>\n",
       "      <td>NaN</td>\n",
       "      <td>NaN</td>\n",
       "      <td>NaN</td>\n",
       "    </tr>\n",
       "    <tr>\n",
       "      <th>82027</th>\n",
       "      <td>16773</td>\n",
       "      <td>16773-THRNAPLE VILLAGE</td>\n",
       "      <td>ADA</td>\n",
       "      <td>KENT MI</td>\n",
       "      <td>42.954684</td>\n",
       "      <td>-85.484517</td>\n",
       "      <td>LICENSEE</td>\n",
       "      <td>N</td>\n",
       "      <td>7</td>\n",
       "      <td>Total Biscuits</td>\n",
       "      <td>2013-01-19</td>\n",
       "      <td>NaN</td>\n",
       "      <td>NaN</td>\n",
       "      <td>NaN</td>\n",
       "      <td>NaN</td>\n",
       "      <td>NaN</td>\n",
       "      <td>NaN</td>\n",
       "    </tr>\n",
       "    <tr>\n",
       "      <th>82028</th>\n",
       "      <td>16773</td>\n",
       "      <td>16773-THRNAPLE VILLAGE</td>\n",
       "      <td>ADA</td>\n",
       "      <td>KENT MI</td>\n",
       "      <td>42.954684</td>\n",
       "      <td>-85.484517</td>\n",
       "      <td>LICENSEE</td>\n",
       "      <td>N</td>\n",
       "      <td>7</td>\n",
       "      <td>Total Biscuits</td>\n",
       "      <td>2013-01-26</td>\n",
       "      <td>NaN</td>\n",
       "      <td>NaN</td>\n",
       "      <td>NaN</td>\n",
       "      <td>NaN</td>\n",
       "      <td>NaN</td>\n",
       "      <td>NaN</td>\n",
       "    </tr>\n",
       "    <tr>\n",
       "      <th>82029</th>\n",
       "      <td>16773</td>\n",
       "      <td>16773-THRNAPLE VILLAGE</td>\n",
       "      <td>ADA</td>\n",
       "      <td>KENT MI</td>\n",
       "      <td>42.954684</td>\n",
       "      <td>-85.484517</td>\n",
       "      <td>LICENSEE</td>\n",
       "      <td>N</td>\n",
       "      <td>7</td>\n",
       "      <td>Total Biscuits</td>\n",
       "      <td>2013-02-02</td>\n",
       "      <td>NaN</td>\n",
       "      <td>NaN</td>\n",
       "      <td>NaN</td>\n",
       "      <td>NaN</td>\n",
       "      <td>NaN</td>\n",
       "      <td>NaN</td>\n",
       "    </tr>\n",
       "    <tr>\n",
       "      <th>82030</th>\n",
       "      <td>16773</td>\n",
       "      <td>16773-THRNAPLE VILLAGE</td>\n",
       "      <td>ADA</td>\n",
       "      <td>KENT MI</td>\n",
       "      <td>42.954684</td>\n",
       "      <td>-85.484517</td>\n",
       "      <td>LICENSEE</td>\n",
       "      <td>N</td>\n",
       "      <td>7</td>\n",
       "      <td>Total Biscuits</td>\n",
       "      <td>2013-02-09</td>\n",
       "      <td>NaN</td>\n",
       "      <td>NaN</td>\n",
       "      <td>NaN</td>\n",
       "      <td>NaN</td>\n",
       "      <td>NaN</td>\n",
       "      <td>NaN</td>\n",
       "    </tr>\n",
       "    <tr>\n",
       "      <th>...</th>\n",
       "      <td>...</td>\n",
       "      <td>...</td>\n",
       "      <td>...</td>\n",
       "      <td>...</td>\n",
       "      <td>...</td>\n",
       "      <td>...</td>\n",
       "      <td>...</td>\n",
       "      <td>...</td>\n",
       "      <td>...</td>\n",
       "      <td>...</td>\n",
       "      <td>...</td>\n",
       "      <td>...</td>\n",
       "      <td>...</td>\n",
       "      <td>...</td>\n",
       "      <td>...</td>\n",
       "      <td>...</td>\n",
       "      <td>...</td>\n",
       "    </tr>\n",
       "    <tr>\n",
       "      <th>178978</th>\n",
       "      <td>16773</td>\n",
       "      <td>16773-THRNAPLE VILLAGE</td>\n",
       "      <td>ADA</td>\n",
       "      <td>KENT MI</td>\n",
       "      <td>42.954684</td>\n",
       "      <td>-85.484517</td>\n",
       "      <td>LICENSEE</td>\n",
       "      <td>N</td>\n",
       "      <td>15</td>\n",
       "      <td>Total Bagels</td>\n",
       "      <td>2016-07-23</td>\n",
       "      <td>NaN</td>\n",
       "      <td>NaN</td>\n",
       "      <td>NaN</td>\n",
       "      <td>NaN</td>\n",
       "      <td>NaN</td>\n",
       "      <td>NaN</td>\n",
       "    </tr>\n",
       "    <tr>\n",
       "      <th>178979</th>\n",
       "      <td>16773</td>\n",
       "      <td>16773-THRNAPLE VILLAGE</td>\n",
       "      <td>ADA</td>\n",
       "      <td>KENT MI</td>\n",
       "      <td>42.954684</td>\n",
       "      <td>-85.484517</td>\n",
       "      <td>LICENSEE</td>\n",
       "      <td>N</td>\n",
       "      <td>15</td>\n",
       "      <td>Total Bagels</td>\n",
       "      <td>2016-07-30</td>\n",
       "      <td>NaN</td>\n",
       "      <td>NaN</td>\n",
       "      <td>NaN</td>\n",
       "      <td>NaN</td>\n",
       "      <td>NaN</td>\n",
       "      <td>NaN</td>\n",
       "    </tr>\n",
       "    <tr>\n",
       "      <th>178980</th>\n",
       "      <td>16773</td>\n",
       "      <td>16773-THRNAPLE VILLAGE</td>\n",
       "      <td>ADA</td>\n",
       "      <td>KENT MI</td>\n",
       "      <td>42.954684</td>\n",
       "      <td>-85.484517</td>\n",
       "      <td>LICENSEE</td>\n",
       "      <td>N</td>\n",
       "      <td>15</td>\n",
       "      <td>Total Bagels</td>\n",
       "      <td>2016-08-06</td>\n",
       "      <td>NaN</td>\n",
       "      <td>NaN</td>\n",
       "      <td>NaN</td>\n",
       "      <td>NaN</td>\n",
       "      <td>NaN</td>\n",
       "      <td>NaN</td>\n",
       "    </tr>\n",
       "    <tr>\n",
       "      <th>178981</th>\n",
       "      <td>16773</td>\n",
       "      <td>16773-THRNAPLE VILLAGE</td>\n",
       "      <td>ADA</td>\n",
       "      <td>KENT MI</td>\n",
       "      <td>42.954684</td>\n",
       "      <td>-85.484517</td>\n",
       "      <td>LICENSEE</td>\n",
       "      <td>N</td>\n",
       "      <td>15</td>\n",
       "      <td>Total Bagels</td>\n",
       "      <td>2016-08-13</td>\n",
       "      <td>NaN</td>\n",
       "      <td>NaN</td>\n",
       "      <td>NaN</td>\n",
       "      <td>NaN</td>\n",
       "      <td>NaN</td>\n",
       "      <td>NaN</td>\n",
       "    </tr>\n",
       "    <tr>\n",
       "      <th>178982</th>\n",
       "      <td>16773</td>\n",
       "      <td>16773-THRNAPLE VILLAGE</td>\n",
       "      <td>ADA</td>\n",
       "      <td>KENT MI</td>\n",
       "      <td>42.954684</td>\n",
       "      <td>-85.484517</td>\n",
       "      <td>LICENSEE</td>\n",
       "      <td>N</td>\n",
       "      <td>15</td>\n",
       "      <td>Total Bagels</td>\n",
       "      <td>2016-08-20</td>\n",
       "      <td>NaN</td>\n",
       "      <td>NaN</td>\n",
       "      <td>NaN</td>\n",
       "      <td>NaN</td>\n",
       "      <td>NaN</td>\n",
       "      <td>NaN</td>\n",
       "    </tr>\n",
       "  </tbody>\n",
       "</table>\n",
       "<p>1512 rows × 17 columns</p>\n",
       "</div>"
      ],
      "text/plain": [
       "        REST_KEY              rest_label City   County   latitude  longitude  \\\n",
       "82026      16773  16773-THRNAPLE VILLAGE  ADA  KENT MI  42.954684 -85.484517   \n",
       "82027      16773  16773-THRNAPLE VILLAGE  ADA  KENT MI  42.954684 -85.484517   \n",
       "82028      16773  16773-THRNAPLE VILLAGE  ADA  KENT MI  42.954684 -85.484517   \n",
       "82029      16773  16773-THRNAPLE VILLAGE  ADA  KENT MI  42.954684 -85.484517   \n",
       "82030      16773  16773-THRNAPLE VILLAGE  ADA  KENT MI  42.954684 -85.484517   \n",
       "...          ...                     ...  ...      ...        ...        ...   \n",
       "178978     16773  16773-THRNAPLE VILLAGE  ADA  KENT MI  42.954684 -85.484517   \n",
       "178979     16773  16773-THRNAPLE VILLAGE  ADA  KENT MI  42.954684 -85.484517   \n",
       "178980     16773  16773-THRNAPLE VILLAGE  ADA  KENT MI  42.954684 -85.484517   \n",
       "178981     16773  16773-THRNAPLE VILLAGE  ADA  KENT MI  42.954684 -85.484517   \n",
       "178982     16773  16773-THRNAPLE VILLAGE  ADA  KENT MI  42.954684 -85.484517   \n",
       "\n",
       "       owner_label trad_label  ItemN        itemdesc  wk_ending  urws  \\\n",
       "82026     LICENSEE          N      7  Total Biscuits 2013-01-12   NaN   \n",
       "82027     LICENSEE          N      7  Total Biscuits 2013-01-19   NaN   \n",
       "82028     LICENSEE          N      7  Total Biscuits 2013-01-26   NaN   \n",
       "82029     LICENSEE          N      7  Total Biscuits 2013-02-02   NaN   \n",
       "82030     LICENSEE          N      7  Total Biscuits 2013-02-09   NaN   \n",
       "...            ...        ...    ...             ...        ...   ...   \n",
       "178978    LICENSEE          N     15    Total Bagels 2016-07-23   NaN   \n",
       "178979    LICENSEE          N     15    Total Bagels 2016-07-30   NaN   \n",
       "178980    LICENSEE          N     15    Total Bagels 2016-08-06   NaN   \n",
       "178981    LICENSEE          N     15    Total Bagels 2016-08-13   NaN   \n",
       "178982    LICENSEE          N     15    Total Bagels 2016-08-20   NaN   \n",
       "\n",
       "        wavg_price  upt  agc  adus  totunits  \n",
       "82026          NaN  NaN  NaN   NaN       NaN  \n",
       "82027          NaN  NaN  NaN   NaN       NaN  \n",
       "82028          NaN  NaN  NaN   NaN       NaN  \n",
       "82029          NaN  NaN  NaN   NaN       NaN  \n",
       "82030          NaN  NaN  NaN   NaN       NaN  \n",
       "...            ...  ...  ...   ...       ...  \n",
       "178978         NaN  NaN  NaN   NaN       NaN  \n",
       "178979         NaN  NaN  NaN   NaN       NaN  \n",
       "178980         NaN  NaN  NaN   NaN       NaN  \n",
       "178981         NaN  NaN  NaN   NaN       NaN  \n",
       "178982         NaN  NaN  NaN   NaN       NaN  \n",
       "\n",
       "[1512 rows x 17 columns]"
      ]
     },
     "execution_count": 134,
     "metadata": {},
     "output_type": "execute_result"
    }
   ],
   "source": [
    "temp_df"
   ]
  },
  {
   "cell_type": "code",
   "execution_count": 135,
   "metadata": {},
   "outputs": [
    {
     "data": {
      "text/plain": [
       "1"
      ]
     },
     "execution_count": 135,
     "metadata": {},
     "output_type": "execute_result"
    }
   ],
   "source": [
    "from pandas.tseries.offsets import Day\n",
    "(pd.Series(temp_df.wk_ending.unique()).diff(1) != Day(7)).sum() # the period is contiguous"
   ]
  },
  {
   "cell_type": "code",
   "execution_count": 136,
   "metadata": {},
   "outputs": [
    {
     "data": {
      "text/plain": [
       "25"
      ]
     },
     "execution_count": 136,
     "metadata": {},
     "output_type": "execute_result"
    }
   ],
   "source": [
    "# search for missing data by the item type for which it is missing.\n",
    "df.loc[df.urws.isna()].itemdesc.unique().size # seems like all are missing somewhere"
   ]
  },
  {
   "cell_type": "code",
   "execution_count": 137,
   "metadata": {},
   "outputs": [
    {
     "data": {
      "text/plain": [
       "rest_label\n",
       "02308-WALKER-ALPINE               25\n",
       "04635-TRAVRS-US 31-SOUTH          25\n",
       "05238-HOLLAND-RIVER               25\n",
       "16773-THRNAPLE VILLAGE             8\n",
       "36277-WYOMING - CHICAGO AND GO    25\n",
       "36302-GRANDVILLE - RIVERTOWN &    25\n",
       "dtype: int64"
      ]
     },
     "execution_count": 137,
     "metadata": {},
     "output_type": "execute_result"
    }
   ],
   "source": [
    "# look at missing items store wise\n",
    "# doesn't seem to be any pattern to missingness, either all the data is missing or some of it in case of Thrnaple village\n",
    "df[df.urws.isna()].groupby('rest_label').apply(lambda x : x.itemdesc.unique().size)"
   ]
  },
  {
   "cell_type": "code",
   "execution_count": 138,
   "metadata": {},
   "outputs": [
    {
     "data": {
      "text/plain": [
       "array(['Total Biscuits', 'Bac Egg Ch Biscuit', 'Sausage Biscuit',\n",
       "       'Sausage Egg Biscuit', 'Total McGriddles', 'Bac Egg Ch McGriddle',\n",
       "       'Sau Egg Ch McGriddle', 'Total Bagels'], dtype=object)"
      ]
     },
     "execution_count": 138,
     "metadata": {},
     "output_type": "execute_result"
    }
   ],
   "source": [
    "df.loc[(df.rest_label == \"16773-THRNAPLE VILLAGE\") & (df.urws.isna())].itemdesc.unique()"
   ]
  },
  {
   "cell_type": "code",
   "execution_count": 139,
   "metadata": {},
   "outputs": [
    {
     "data": {
      "text/plain": [
       "rest_label\n",
       "02308-WALKER-ALPINE              2015-05-09\n",
       "04635-TRAVRS-US 31-SOUTH         2013-05-04\n",
       "05238-HOLLAND-RIVER              2013-04-13\n",
       "16773-THRNAPLE VILLAGE           2013-01-12\n",
       "36277-WYOMING - CHICAGO AND GO   2013-01-12\n",
       "36302-GRANDVILLE - RIVERTOWN &   2013-01-12\n",
       "dtype: datetime64[ns]"
      ]
     },
     "execution_count": 139,
     "metadata": {},
     "output_type": "execute_result"
    }
   ],
   "source": [
    "# are the restaurants missing data in similar periods ?\n",
    "# this is intresting, accept the first, they are missing data starting from the same period. What happened in 2013 winter ?\n",
    "df[df.urws.isna()].groupby('rest_label').apply(lambda x : x.wk_ending.min())"
   ]
  },
  {
   "cell_type": "code",
   "execution_count": 140,
   "metadata": {},
   "outputs": [],
   "source": [
    "# discuss the customer count across the timescale among license and mcdonald owned restaurants, how to do this in tableau\n",
    "# how to understand the negative impact of promotion on other products.\n",
    "# is avg better or sum when plotting on time series."
   ]
  },
  {
   "cell_type": "code",
   "execution_count": 141,
   "metadata": {},
   "outputs": [
    {
     "data": {
      "text/plain": [
       "<Axes: xlabel='itemdesc,missing'>"
      ]
     },
     "execution_count": 141,
     "metadata": {},
     "output_type": "execute_result"
    },
    {
     "data": {
      "image/png": "[encoded data removed]",
      "text/plain": [
       "<Figure size 640x480 with 1 Axes>"
      ]
     },
     "metadata": {},
     "output_type": "display_data"
    }
   ],
   "source": [
    "x = df[['urws', 'itemdesc']].copy()\n",
    "x['missing'] = x.urws.isna().map({True: 1, False: 0})\n",
    "x.groupby(['itemdesc', 'missing'])[['itemdesc', 'missing']].value_counts().plot(kind='bar')"
   ]
  },
  {
   "cell_type": "code",
   "execution_count": null,
   "metadata": {},
   "outputs": [],
   "source": [
    "\n"
   ]
  },
  {
   "cell_type": "code",
   "execution_count": null,
   "metadata": {},
   "outputs": [],
   "source": []
  },
  {
   "cell_type": "code",
   "execution_count": null,
   "metadata": {},
   "outputs": [],
   "source": []
  },
  {
   "cell_type": "code",
   "execution_count": null,
   "metadata": {},
   "outputs": [],
   "source": []
  }
 ],
 "metadata": {
  "kernelspec": {
   "display_name": "Python 3",
   "language": "python",
   "name": "python3"
  },
  "language_info": {
   "codemirror_mode": {
    "name": "ipython",
    "version": 3
   },
   "file_extension": ".py",
   "mimetype": "text/x-python",
   "name": "python",
   "nbconvert_exporter": "python",
   "pygments_lexer": "ipython3",
   "version": "3.10.7"
  }
 },
 "nbformat": 4,
 "nbformat_minor": 2
}
